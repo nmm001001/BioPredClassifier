{
 "cells": [
  {
   "cell_type": "code",
   "execution_count": 1,
   "id": "5ae51ba5-ed9a-44b8-99e5-a9443c07df41",
   "metadata": {},
   "outputs": [],
   "source": [
    "import numpy as np\n",
    "import json\n",
    "from joblib import Parallel, delayed\n",
    "from pathlib import Path\n",
    "\n",
    "from tqdm import tqdm\n",
    "from HGCR_util.emb_lookup.abstr_emb_lookup import MedlineNumpyEmbeddings\n",
    "from HGCR_util import text_util\n",
    "from HGCR_util.lazy_json_kv_loader import LazyJsonlAbstractLoader\n",
    "import pandas as pd\n",
    "import random\n",
    "\n",
    "from agatha_construct.semrep_handler import SemRepHandler\n",
    "import re\n",
    "import torch"
   ]
  },
  {
   "cell_type": "code",
   "execution_count": 2,
   "id": "83ee8332-2eaf-4f74-a1cf-ac933c7bf5a5",
   "metadata": {},
   "outputs": [],
   "source": [
    "tqdm.pandas()"
   ]
  },
  {
   "cell_type": "markdown",
   "id": "d8d59f20-29c6-48f8-b158-9c947794ad40",
   "metadata": {},
   "source": [
    "### Load embeddings"
   ]
  },
  {
   "cell_type": "code",
   "execution_count": 3,
   "id": "1cba32f6-e326-4a16-94ae-5deb981fdf73",
   "metadata": {},
   "outputs": [],
   "source": [
    "embeddings_fpath = Path(\n",
    "    '/work/acslab/shared/medline_embeddings/PubMedNCL_abstr/abstr_id_to_emb_PubMedNCL'\n",
    ")"
   ]
  },
  {
   "cell_type": "code",
   "execution_count": 4,
   "id": "a86d5f1f-77ce-4faf-a5de-80fbbac4b638",
   "metadata": {},
   "outputs": [
    {
     "name": "stderr",
     "output_type": "stream",
     "text": [
      "Opening np chunks: 100%|█████████████████████| 102/102 [00:00<00:00, 731.42it/s]\n",
      "Opening json index chunks: 100%|██████████████| 102/102 [00:10<00:00,  9.70it/s]\n",
      "Constructing PMID lookup index: 100%|█████████| 102/102 [00:13<00:00,  7.55it/s]\n"
     ]
    }
   ],
   "source": [
    "pubmedncl_emb_obj = MedlineNumpyEmbeddings(\n",
    "    emb_w_ids_fpath=embeddings_fpath,\n",
    "    json_read_n_jobs=8,\n",
    ")"
   ]
  },
  {
   "cell_type": "code",
   "execution_count": 5,
   "id": "34d662d8-344a-47dd-a297-c73398320990",
   "metadata": {},
   "outputs": [
    {
     "name": "stderr",
     "output_type": "stream",
     "text": [
      "Indexing jsonl files: 100%|███████████████████| 109/109 [03:51<00:00,  2.12s/it]\n"
     ]
    }
   ],
   "source": [
    "sent_jsonl_dir = Path(\n",
    "    '/work/acslab/shared/Agatha_shared/'\n",
    "    'pmid_to_sent_id_w_text_kv_jsonl_lazy_chunks'\n",
    ")\n",
    "\n",
    "abstr_db = LazyJsonlAbstractLoader(\n",
    "    list(sent_jsonl_dir.glob('*jsonl'))\n",
    ")"
   ]
  },
  {
   "cell_type": "code",
   "execution_count": 6,
   "id": "d0d07bee-7260-44fb-8d22-5a3d708214fe",
   "metadata": {},
   "outputs": [
    {
     "data": {
      "text/plain": [
       "30120535"
      ]
     },
     "execution_count": 6,
     "metadata": {},
     "output_type": "execute_result"
    }
   ],
   "source": [
    "## sample 1000 pmids\n",
    "all_pmids_list = []\n",
    "for chunk in pubmedncl_emb_obj.pmids_chunk_list:\n",
    "    for pmid in chunk:\n",
    "        all_pmids_list.append(pmid)\n",
    "len(all_pmids_list)"
   ]
  },
  {
   "cell_type": "code",
   "execution_count": 7,
   "id": "b9021d4e-23be-4a61-8d8e-c7083de05f3e",
   "metadata": {},
   "outputs": [
    {
     "data": {
      "text/plain": [
       "100000"
      ]
     },
     "execution_count": 7,
     "metadata": {},
     "output_type": "execute_result"
    }
   ],
   "source": [
    "random.seed(42)\n",
    "sampled_pmids = random.sample(all_pmids_list, 100000)\n",
    "len(sampled_pmids)"
   ]
  },
  {
   "cell_type": "code",
   "execution_count": 8,
   "id": "4a971de7-2ec9-47bb-952c-388c0f703849",
   "metadata": {},
   "outputs": [
    {
     "data": {
      "text/plain": [
       "100000"
      ]
     },
     "execution_count": 8,
     "metadata": {},
     "output_type": "execute_result"
    }
   ],
   "source": [
    "sampled_abstracts = [text_util.get_abstr_text(pmid, abstr_db) for pmid in sampled_pmids]\n",
    "len(sampled_abstracts)"
   ]
  },
  {
   "cell_type": "code",
   "execution_count": 9,
   "id": "aedcabd7-48df-46cc-aa81-ea14973a1af9",
   "metadata": {},
   "outputs": [
    {
     "data": {
      "text/plain": [
       "100000"
      ]
     },
     "execution_count": 9,
     "metadata": {},
     "output_type": "execute_result"
    }
   ],
   "source": [
    "sampled_embeds = [pubmedncl_emb_obj[pmid] for pmid in sampled_pmids]\n",
    "len(sampled_embeds)"
   ]
  },
  {
   "cell_type": "code",
   "execution_count": 12,
   "id": "55131d34-3357-4960-ab4a-b7481818a225",
   "metadata": {
    "collapsed": true,
    "jupyter": {
     "outputs_hidden": true
    }
   },
   "outputs": [
    {
     "data": {
      "text/plain": [
       "memmap([-7.46442974e-01,  3.35729361e-01, -2.34430373e-01,\n",
       "        -2.80785382e-01, -1.73664778e-01,  3.13049763e-01,\n",
       "        -3.62970799e-01,  5.90586662e-01, -2.91971248e-02,\n",
       "        -5.05837619e-01,  6.55847788e-01,  1.25187624e+00,\n",
       "        -4.16735560e-01,  1.64797962e-01,  1.06502764e-01,\n",
       "         1.49024641e-02, -1.61293542e+00, -5.15955389e-01,\n",
       "         1.44695537e-02,  2.00267136e-01,  7.18324542e-01,\n",
       "         2.33138371e-02, -3.13486725e-01,  8.97246540e-01,\n",
       "         3.38288367e-01,  4.17616040e-01, -3.41324598e-01,\n",
       "         4.10070181e-01, -6.99992120e-01, -1.40942872e+00,\n",
       "        -1.80755734e-01,  4.63272668e-02,  1.25755385e-01,\n",
       "         7.47281373e-01, -4.08720136e-01, -4.35202569e-01,\n",
       "         1.58904180e-01, -3.86107773e-01, -3.18681031e-01,\n",
       "        -1.17502056e-01, -1.75008178e-02, -1.04922152e+00,\n",
       "         3.96252185e-01, -7.63067722e-01,  1.59524992e-01,\n",
       "        -5.22287965e-01, -2.87373573e-01,  1.66103557e-01,\n",
       "         2.96335638e-01, -1.39071301e-01, -2.54873663e-01,\n",
       "        -1.59689978e-01, -5.04771948e-01,  1.02006778e-01,\n",
       "         3.95878047e-01,  1.15764841e-01,  3.26049149e-01,\n",
       "        -3.76289189e-01, -1.53410053e+00,  1.08934484e-01,\n",
       "        -5.34959018e-01,  3.95875394e-01, -6.90978348e-01,\n",
       "        -1.45687312e-01, -2.29755327e-01, -3.56531113e-01,\n",
       "        -8.89771059e-02, -2.96304286e-01, -2.43867278e-01,\n",
       "         5.06134212e-01,  2.06480622e-01, -3.00383210e-01,\n",
       "         1.13027908e-01, -3.27579677e-01,  6.61650717e-01,\n",
       "        -1.85326695e-01, -5.85272670e-01,  3.03014368e-01,\n",
       "         4.31567460e-01, -2.51745939e-01,  6.18421495e-01,\n",
       "         1.44820243e-01,  3.43314826e-01, -2.84740329e-01,\n",
       "        -1.33605316e-01,  3.02674472e-01,  4.51032668e-01,\n",
       "        -2.57421792e-01, -2.51262605e-01, -1.08648919e-01,\n",
       "         4.71031219e-01, -1.11986458e+00,  5.89470387e-01,\n",
       "         1.97569653e-01,  5.42670488e-02, -3.74059916e-01,\n",
       "         4.58081216e-01, -1.73716471e-01, -7.50555754e-01,\n",
       "         6.43219531e-01,  3.84104937e-01,  5.61017096e-01,\n",
       "         2.75610894e-01, -3.05041552e-01, -8.71154591e-02,\n",
       "        -1.52579784e-01,  8.31471458e-02, -6.45699948e-02,\n",
       "        -1.41861606e+00,  3.32778931e-01,  6.18486926e-02,\n",
       "        -6.04631662e-01,  6.04466021e-01,  3.66250783e-01,\n",
       "         3.08014810e-01, -3.16743970e-01, -6.31597533e-04,\n",
       "        -2.22363248e-01, -2.39838779e-01,  5.98121285e-02,\n",
       "         4.34833430e-02, -3.51383001e-01, -1.72847882e-02,\n",
       "        -9.22644138e-01, -2.84624416e-02, -3.42879623e-01,\n",
       "         3.72260034e-01,  1.02734111e-01, -3.16216707e-01,\n",
       "         8.60718071e-01,  5.10412216e-01,  2.39771262e-01,\n",
       "        -3.54372174e-01,  4.33199495e-01,  1.66543230e-01,\n",
       "        -2.96305984e-01,  5.00730574e-01, -3.81032646e-01,\n",
       "         5.02357006e-01,  7.78875053e-02,  2.73420781e-01,\n",
       "         7.46793330e-01,  4.66216326e-01, -2.81713307e-01,\n",
       "        -6.79059684e-01,  3.26336890e-01,  6.97749138e-01,\n",
       "         1.65747497e-02, -6.56373287e-03,  4.15577024e-01,\n",
       "         1.23508349e-02, -5.64579777e-02,  7.89835155e-01,\n",
       "         1.35006920e-01,  3.10299426e-01,  3.70725095e-01,\n",
       "         9.24737632e-01, -4.30228770e-01, -4.70705628e-02,\n",
       "         6.57955945e-01, -3.92119378e-01, -2.15545714e-01,\n",
       "         4.85153645e-02, -3.52640539e-01,  3.27945733e-03,\n",
       "         4.13462043e-01, -3.96063566e-01, -2.68906937e-03,\n",
       "         3.95193815e-01,  8.67456347e-02,  8.63908172e-01,\n",
       "        -5.07642865e-01, -3.19271646e-02, -4.72931385e-01,\n",
       "        -9.88827571e-02, -2.52630383e-01,  2.76417196e-01,\n",
       "         9.22967494e-02, -3.25991035e-01,  3.80389601e-01,\n",
       "        -3.04406434e-01, -2.61429280e-01,  1.25253811e-01,\n",
       "        -2.60439843e-01,  2.46805593e-01, -1.11754179e+00,\n",
       "         4.18119371e-01,  1.39207900e-01, -4.51836348e-01,\n",
       "        -1.81500509e-01,  3.18811983e-01,  5.99040568e-01,\n",
       "         5.26430011e-02,  2.78832644e-01, -1.50890142e-01,\n",
       "         3.43441069e-01,  1.12430975e-01,  2.20536932e-01,\n",
       "         3.49419594e-01,  3.38386685e-01,  1.27384409e-01,\n",
       "         1.46815017e-01, -4.39884327e-02, -1.15471417e-02,\n",
       "         1.37701079e-01,  2.99134076e-01,  1.82624549e-01,\n",
       "         1.78680606e-02, -2.93492228e-01, -5.15472330e-03,\n",
       "         9.78197232e-02, -1.46801576e-01,  1.65065244e-01,\n",
       "        -6.03141069e-01,  9.13708687e-01, -2.07806587e-01,\n",
       "         8.88148844e-02, -5.25485814e-01, -3.44245315e-01,\n",
       "        -3.34239155e-01,  3.90583813e-01,  3.33944350e-01,\n",
       "        -8.34569454e-01, -3.65582198e-01,  5.12937307e-01,\n",
       "        -3.17097276e-01, -6.35568351e-02,  4.69786018e-01,\n",
       "        -6.05017364e-01,  1.22123651e-01,  3.28530371e-01,\n",
       "        -1.39015484e+00, -1.08754329e-01,  4.04962510e-01,\n",
       "        -4.52127419e-02, -5.74206114e-02, -1.66375577e-01,\n",
       "        -5.47715351e-02, -8.23476631e-03, -6.67610407e-01,\n",
       "         2.92470288e-02,  8.45675543e-02,  4.35526937e-01,\n",
       "         6.26253247e-01, -1.92416146e-01,  2.06740022e-01,\n",
       "        -2.58436978e-01, -2.58145835e-02,  8.93201113e-01,\n",
       "        -4.79913235e-01,  2.26826310e-01, -4.01210994e-01,\n",
       "        -5.52492559e-01,  6.21085346e-01, -6.87373400e-01,\n",
       "        -1.07197687e-01, -1.84549272e-01, -9.96380627e-01,\n",
       "        -4.66889113e-01,  1.27037410e-02, -1.02649331e+00,\n",
       "        -2.11190075e-01,  2.40219653e-01,  2.55561411e-01,\n",
       "        -8.94006371e-01, -1.14976621e+00, -1.38360694e-01,\n",
       "        -5.45243084e-01, -1.67959660e-01, -6.13216460e-01,\n",
       "        -1.20846999e+00,  2.70226151e-02, -2.28461206e-01,\n",
       "         2.02803329e-01, -8.31568122e-01,  4.01337147e-01,\n",
       "        -6.92549348e-01,  4.77992684e-01,  2.98851617e-02,\n",
       "        -4.53273058e-01,  2.03015164e-01,  9.69993293e-01,\n",
       "         2.11308867e-01,  6.64207935e-02,  1.62574470e-01,\n",
       "        -4.88303840e-01,  9.07034846e-04,  2.50190914e-01,\n",
       "        -5.63017987e-02, -1.23926416e-01, -4.47907895e-01,\n",
       "        -4.49741513e-01, -8.31887364e-01, -1.62393138e-01,\n",
       "         1.92749605e-01, -8.75890814e-03, -3.07902426e-01,\n",
       "         3.53008121e-01, -6.82020724e-01, -4.38133419e-01,\n",
       "        -4.08831656e-01, -8.81260857e-02,  1.58344463e-01,\n",
       "        -3.61122608e-01,  2.96294153e-01,  9.71211269e-02,\n",
       "         7.46238530e-01,  1.29241586e-01, -4.45761979e-01,\n",
       "        -3.01848710e-01, -7.74725378e-01,  6.46551073e-01,\n",
       "         3.71121734e-01,  3.41210634e-01, -1.51345640e-01,\n",
       "        -1.02929242e-01,  2.35315293e-01, -4.31380458e-02,\n",
       "         2.81544290e-02,  1.03278659e-01,  4.49161857e-01,\n",
       "        -1.37475878e-01, -1.15352407e-01,  1.47122011e-01,\n",
       "        -9.97541845e-01,  9.83626783e-01,  6.37383461e-01,\n",
       "        -3.83063614e-01,  1.53159186e-01, -3.65360826e-01,\n",
       "         4.05602574e-01,  1.19261734e-01, -2.72513151e-01,\n",
       "         3.67491066e-01, -8.79379332e-01,  1.95405275e-01,\n",
       "        -6.65509179e-02, -4.17721778e-01,  8.65893066e-02,\n",
       "         5.74391522e-02,  5.42096257e-01,  6.38442338e-01,\n",
       "         1.75088865e-03,  4.29570317e-01,  7.72707611e-02,\n",
       "        -4.08951491e-01,  2.28198633e-01, -4.54922259e-01,\n",
       "        -4.51725066e-01,  1.49108646e-02,  6.57433586e-04,\n",
       "        -4.48239207e-01, -1.10490069e-01, -1.92781519e-02,\n",
       "         7.13411570e-01,  1.25077982e-02,  3.51283282e-01,\n",
       "        -3.60078037e-01,  8.51935029e-01, -3.68118078e-01,\n",
       "        -1.46078601e-01,  7.28836879e-02,  3.95939946e-01,\n",
       "        -6.08218551e-01,  2.06339911e-01,  4.56232071e-01,\n",
       "         2.82993525e-01,  4.75505829e-01, -9.93691623e-01,\n",
       "        -5.91999412e-01,  8.93231034e-01,  4.19512928e-01,\n",
       "         9.07728553e-01, -3.91543694e-02,  9.23165008e-02,\n",
       "         1.24278687e-01,  5.34886941e-02,  1.20451286e-01,\n",
       "        -1.15636893e-01,  3.31468016e-01, -3.93459857e-01,\n",
       "         1.01509593e-01,  8.58902037e-01, -1.71493828e-01,\n",
       "        -3.47653478e-01,  2.40016401e-01, -1.05676961e+00,\n",
       "         1.02057481e+00,  1.12462664e+00,  1.19626656e-01,\n",
       "        -3.57345760e-01, -7.10324347e-02, -5.03735363e-01,\n",
       "         3.90656084e-01,  1.91853359e-01, -1.13433093e-01,\n",
       "         2.73390859e-02,  1.92300349e-01, -5.12398422e-01,\n",
       "        -2.23924313e-02,  1.86911359e-01, -5.15756249e-01,\n",
       "        -2.88186491e-01, -3.28195170e-02,  1.45618334e-01,\n",
       "        -1.41785204e-01, -7.48406202e-02, -1.00916481e+00,\n",
       "        -5.84490359e-01,  4.86104488e-02, -1.95106924e-01,\n",
       "        -1.70367539e-01,  2.30698884e-01,  1.62612602e-01,\n",
       "         2.25022808e-01, -2.17178389e-01, -3.84257644e-01,\n",
       "        -3.82265113e-02, -1.74548939e-01, -1.98434740e-01,\n",
       "        -1.10762037e-01,  5.25541723e-01, -5.16742110e-01,\n",
       "         1.13247132e+00, -7.53491306e+00,  2.85951011e-02,\n",
       "         2.62371182e-01,  4.76879567e-01,  3.37606162e-01,\n",
       "         5.65680623e-01,  4.47376519e-02,  4.97651771e-02,\n",
       "         1.02359784e+00, -7.27363646e-01,  3.51682827e-02,\n",
       "        -2.16937941e-02, -5.61617196e-01, -1.36152387e-01,\n",
       "        -1.11949956e+00, -6.19902201e-02, -7.65853167e-01,\n",
       "        -6.47921860e-01,  5.83188593e-01,  2.21475333e-01,\n",
       "        -2.57359177e-01, -5.17000437e-01,  4.23100829e-01,\n",
       "        -4.61345106e-01, -2.41362497e-01,  6.49841070e-01,\n",
       "        -1.03866160e+00, -3.70435447e-01,  1.17159450e+00,\n",
       "         1.95417151e-01, -3.90054762e-01, -1.91247016e-01,\n",
       "        -1.43965915e-01, -6.65559947e-01, -4.26344067e-01,\n",
       "        -1.28771350e-01, -8.69156979e-03,  4.76611853e-01,\n",
       "        -2.03000128e-01, -1.65792808e-01, -1.73525140e-01,\n",
       "         1.09840572e-01, -7.23877922e-02,  1.41811803e-01,\n",
       "        -1.09619200e-01,  5.70262849e-01,  3.04941148e-01,\n",
       "        -8.80596042e-02, -2.87489146e-01,  2.68550634e-01,\n",
       "         1.13256228e+00, -3.86429280e-01, -1.04283524e+00,\n",
       "        -6.86090589e-01,  7.38927841e-01, -6.28030121e-01,\n",
       "         4.74706858e-01, -9.23694313e-01, -3.21435571e-01,\n",
       "        -2.11840346e-01,  3.52292329e-01, -1.00691073e-01,\n",
       "        -6.75235093e-01, -8.38144422e-02,  3.08353484e-01,\n",
       "        -1.41225114e-01,  8.21570337e-01, -3.41976702e-01,\n",
       "         9.62971337e-03, -3.63009751e-01,  1.02088638e-01,\n",
       "        -5.06788827e-02,  8.53791595e-01,  5.31126082e-01,\n",
       "        -8.14297140e-01, -8.62109721e-01, -3.19979310e-01,\n",
       "        -6.60458386e-01,  3.34967351e+00, -1.95725366e-01,\n",
       "         1.23815671e-01,  1.27021447e-01,  1.12200892e+00,\n",
       "        -2.20667616e-01, -6.48040771e-01,  1.46050200e-01,\n",
       "        -1.10898875e-01,  1.40449822e-01, -5.35320282e-01,\n",
       "         5.78626573e-01,  1.24961682e-01, -3.70911568e-01,\n",
       "        -9.21090186e-01,  6.89940810e-01, -1.18837051e-01,\n",
       "         1.08594283e-01, -3.82194459e-01,  1.93899944e-01,\n",
       "         4.05118853e-01,  5.75335503e-01,  2.47559682e-01,\n",
       "         2.62756735e-01, -6.54463649e-01, -3.25047433e-01,\n",
       "         6.72660232e-01, -8.63933802e-01, -1.56261310e-01,\n",
       "         3.87365371e-01, -8.81439075e-02, -5.09591773e-03,\n",
       "         4.16260391e-01, -2.83746440e-02, -4.94921692e-02,\n",
       "        -5.88146448e-01, -5.27054787e-01, -3.66150625e-02,\n",
       "         4.82751459e-01, -7.54579186e-01,  3.76629494e-02,\n",
       "         4.73376662e-02, -2.21106008e-01,  1.29903346e-01,\n",
       "         7.55684257e-01,  2.49502108e-01, -5.29397845e-01,\n",
       "         5.93961477e-01, -4.32620227e-01,  8.97302479e-02,\n",
       "         8.10592294e-01,  3.60413581e-01,  6.49793983e-01,\n",
       "         1.49369508e-01, -9.22720373e-01,  2.70314068e-01,\n",
       "        -3.51826340e-01, -1.92581430e-01, -5.99636555e-01,\n",
       "         6.95795536e-01, -3.76412183e-01, -4.34452325e-01,\n",
       "        -4.13934737e-01, -4.76575285e-01,  2.27661282e-01,\n",
       "         5.98623790e-02,  7.78835267e-03,  2.48174027e-01,\n",
       "        -2.43868843e-01,  1.29921600e-01,  4.00985330e-01,\n",
       "        -6.78182364e-01, -6.21839464e-01,  4.56730723e-02,\n",
       "         2.05572993e-02, -3.69861603e-01,  5.83515167e-01,\n",
       "        -4.54712301e-01, -6.14175320e-01, -6.81207776e-02,\n",
       "         9.96820405e-02,  4.91940796e-01,  4.54570875e-02,\n",
       "        -3.48889291e-01, -3.08084637e-01, -2.38659590e-01,\n",
       "         3.82271379e-01,  9.63033363e-02,  3.74017924e-01,\n",
       "        -7.35868871e-01,  6.45586550e-01,  6.56651676e-01,\n",
       "         3.33364785e-01, -5.85933626e-01, -2.75645673e-01,\n",
       "        -2.76668489e-01, -1.99504107e-01,  2.49259293e-01,\n",
       "        -8.35820436e-01,  1.60854924e+00, -8.40581357e-02,\n",
       "         2.16823205e-01,  1.28484154e-02,  1.26081660e-01,\n",
       "        -2.05606427e-02, -1.46787062e-01,  4.36182380e-01,\n",
       "        -4.46642220e-01, -1.33972749e-01, -6.36078894e-01,\n",
       "        -1.29866423e-02,  1.76197931e-01,  5.60774088e-01,\n",
       "         7.51350880e-01,  2.37942576e-01, -4.52662051e-01,\n",
       "         5.60765386e-01, -2.41328001e-01,  3.75405729e-01,\n",
       "         4.64769334e-01, -7.85229445e-01, -5.54764271e-01,\n",
       "         2.62120247e-01, -2.73188986e-02, -2.11343482e-01,\n",
       "         1.08097568e-01, -3.93330455e-02,  5.45332581e-02,\n",
       "         5.60369909e-01,  9.19316337e-02,  2.32705355e-01,\n",
       "        -5.37268102e-01,  9.23639894e-01,  5.18372118e-01,\n",
       "         5.48923612e-02,  3.12292427e-02,  1.00356221e-01,\n",
       "         7.47831687e-02, -1.47982046e-01, -6.94107413e-02,\n",
       "         4.41365212e-01, -3.58206928e-01, -6.34366333e-01,\n",
       "        -2.00032651e-01, -1.68251204e+00, -5.50794363e-01,\n",
       "         1.64454535e-01,  6.56038225e-02,  6.24150097e-01,\n",
       "         4.29758102e-01,  4.89770830e-01, -5.04857361e-01,\n",
       "         5.04811883e-01, -6.44266248e-01,  1.18896201e-01,\n",
       "         6.45348951e-02,  4.61600751e-01,  1.35558799e-01,\n",
       "        -5.33372164e-01, -2.16981202e-01, -6.97948113e-02,\n",
       "        -1.71431541e-01, -3.06062490e-01,  8.91644508e-02,\n",
       "         6.81806952e-02,  1.36280164e-01,  1.07351875e+00,\n",
       "         2.29020286e-02,  2.78548598e-01,  6.61146641e-01,\n",
       "         2.94866502e-01, -4.88079153e-02,  5.21942377e-01,\n",
       "        -8.58106852e-01,  2.12383047e-01,  1.40622392e-01,\n",
       "        -1.47995323e-01, -2.78347373e-01, -5.32891639e-02,\n",
       "        -1.34253100e-01,  1.44890189e-01, -5.57464182e-01,\n",
       "         1.04701541e-01, -2.76216775e-01, -5.02767980e-01,\n",
       "         1.31591752e-01, -1.60969824e-01, -3.12533855e-01,\n",
       "        -7.36670554e-01, -8.92208159e-01, -5.26809990e-01,\n",
       "        -9.13997665e-02,  4.32059377e-01,  2.00924560e-01,\n",
       "        -1.88961357e-01,  1.20819426e+00, -2.98966728e-02,\n",
       "        -2.23573241e-02,  1.09353147e-01, -1.01424813e+00,\n",
       "        -3.88404876e-02, -3.08100432e-01,  6.25883639e-01,\n",
       "        -3.07555497e-01,  2.77646124e-01,  4.23556626e-01,\n",
       "         4.12084721e-02, -4.42205727e-01, -8.74678791e-02,\n",
       "         5.12991786e-01, -4.01858576e-02, -9.56227481e-01,\n",
       "         3.88695776e-01,  1.43994510e-01, -3.57162565e-01,\n",
       "        -3.04183364e-01,  3.55331212e-01,  1.82254270e-01,\n",
       "        -3.67702961e-01,  4.75591034e-01, -1.80280671e-01,\n",
       "         5.00488162e-01, -8.79885137e-01, -3.73317748e-01,\n",
       "        -6.94025218e-01,  1.88820377e-01,  1.96072478e-02,\n",
       "        -5.90819955e-01, -6.73564002e-02,  5.43453813e-01,\n",
       "         6.76794201e-02,  8.63968074e-01, -6.97266236e-02,\n",
       "         2.79077053e-01,  6.28427491e-02,  6.40614808e-01,\n",
       "         5.65034509e-01,  8.31701159e-01, -8.96058138e-03,\n",
       "         5.50934449e-02,  9.30909574e-01,  1.37450635e-01,\n",
       "        -3.11020911e-01, -2.90427625e-01, -8.57174695e-01,\n",
       "        -4.79858607e-01,  2.48778611e-01, -2.93130696e-01,\n",
       "         1.31213963e-01,  6.31220222e-01,  1.31208912e-01,\n",
       "         1.01835442e+00, -6.90692812e-02,  2.95390993e-01,\n",
       "         1.11419988e+00,  7.32263207e-01, -7.09573865e-01,\n",
       "         7.02359796e-01,  8.87010872e-01, -6.36212647e-01,\n",
       "         6.00061178e-01, -7.43097544e-01,  8.60224739e-02,\n",
       "         6.78722784e-02,  1.56617200e+00,  6.67626500e-01], dtype=float32)"
      ]
     },
     "execution_count": 12,
     "metadata": {},
     "output_type": "execute_result"
    }
   ],
   "source": [
    "sampled_embeds[0]"
   ]
  },
  {
   "cell_type": "code",
   "execution_count": 10,
   "id": "9c97b2b8-1501-4e76-86cb-431e5c2eba87",
   "metadata": {},
   "outputs": [],
   "source": [
    "data = {'pmid': sampled_pmids, 'pmid_text': sampled_abstracts, 'pmid_embeddings': sampled_embeds}\n",
    "\n",
    "df = pd.DataFrame(data)"
   ]
  },
  {
   "cell_type": "code",
   "execution_count": 11,
   "id": "48cc1191-9c87-4567-84b2-5c595819c631",
   "metadata": {},
   "outputs": [
    {
     "data": {
      "text/html": [
       "<div>\n",
       "<style scoped>\n",
       "    .dataframe tbody tr th:only-of-type {\n",
       "        vertical-align: middle;\n",
       "    }\n",
       "\n",
       "    .dataframe tbody tr th {\n",
       "        vertical-align: top;\n",
       "    }\n",
       "\n",
       "    .dataframe thead th {\n",
       "        text-align: right;\n",
       "    }\n",
       "</style>\n",
       "<table border=\"1\" class=\"dataframe\">\n",
       "  <thead>\n",
       "    <tr style=\"text-align: right;\">\n",
       "      <th></th>\n",
       "      <th>pmid</th>\n",
       "      <th>pmid_text</th>\n",
       "      <th>pmid_embeddings</th>\n",
       "    </tr>\n",
       "  </thead>\n",
       "  <tbody>\n",
       "    <tr>\n",
       "      <th>0</th>\n",
       "      <td>23622459</td>\n",
       "      <td>Mitral annulus calcification and sudden death....</td>\n",
       "      <td>[-0.746443, 0.33572936, -0.23443037, -0.280785...</td>\n",
       "    </tr>\n",
       "    <tr>\n",
       "      <th>1</th>\n",
       "      <td>35184714</td>\n",
       "      <td>Sociodemographic and Diabetes-Related Risk Fac...</td>\n",
       "      <td>[0.00021144087, -0.38737687, -0.26618272, 0.10...</td>\n",
       "    </tr>\n",
       "    <tr>\n",
       "      <th>2</th>\n",
       "      <td>33583333</td>\n",
       "      <td>Multispectral and molecular modeling investiga...</td>\n",
       "      <td>[-0.5143313, -0.6871651, 0.46939507, 0.2673885...</td>\n",
       "    </tr>\n",
       "    <tr>\n",
       "      <th>3</th>\n",
       "      <td>12958355</td>\n",
       "      <td>Seasonal dynamics of previously unknown fungal...</td>\n",
       "      <td>[0.0639993, -0.31387797, 0.05587074, -0.371296...</td>\n",
       "    </tr>\n",
       "    <tr>\n",
       "      <th>4</th>\n",
       "      <td>23530622</td>\n",
       "      <td>pH-responsive assembly of gold nanoparticles a...</td>\n",
       "      <td>[-0.18710473, -0.55765355, -0.4391491, 0.46652...</td>\n",
       "    </tr>\n",
       "  </tbody>\n",
       "</table>\n",
       "</div>"
      ],
      "text/plain": [
       "       pmid                                          pmid_text  \\\n",
       "0  23622459  Mitral annulus calcification and sudden death....   \n",
       "1  35184714  Sociodemographic and Diabetes-Related Risk Fac...   \n",
       "2  33583333  Multispectral and molecular modeling investiga...   \n",
       "3  12958355  Seasonal dynamics of previously unknown fungal...   \n",
       "4  23530622  pH-responsive assembly of gold nanoparticles a...   \n",
       "\n",
       "                                     pmid_embeddings  \n",
       "0  [-0.746443, 0.33572936, -0.23443037, -0.280785...  \n",
       "1  [0.00021144087, -0.38737687, -0.26618272, 0.10...  \n",
       "2  [-0.5143313, -0.6871651, 0.46939507, 0.2673885...  \n",
       "3  [0.0639993, -0.31387797, 0.05587074, -0.371296...  \n",
       "4  [-0.18710473, -0.55765355, -0.4391491, 0.46652...  "
      ]
     },
     "execution_count": 11,
     "metadata": {},
     "output_type": "execute_result"
    }
   ],
   "source": [
    "df.head()"
   ]
  },
  {
   "cell_type": "code",
   "execution_count": 12,
   "id": "c269dbf6-ab28-4264-bc72-79bd7e219162",
   "metadata": {},
   "outputs": [
    {
     "data": {
      "text/plain": [
       "(768,)"
      ]
     },
     "execution_count": 12,
     "metadata": {},
     "output_type": "execute_result"
    }
   ],
   "source": [
    "df.iloc[0]['pmid_embeddings'].shape"
   ]
  },
  {
   "cell_type": "code",
   "execution_count": 13,
   "id": "e37e74f4-dd86-4b8d-bce8-91481b698e8b",
   "metadata": {},
   "outputs": [],
   "source": [
    "pmid_dict = {}\n",
    "for idx, row in df.iterrows():\n",
    "    pmid_dict.update({row['pmid']: row['pmid_text']})\n",
    "\n"
   ]
  },
  {
   "cell_type": "markdown",
   "id": "19797ae7-3580-46a5-b737-d8f574799c51",
   "metadata": {},
   "source": [
    "### Run semrep on abstracts to retrieve pairs"
   ]
  },
  {
   "cell_type": "code",
   "execution_count": 14,
   "id": "b82afdb1-e056-49b3-8e4a-efa42ced453f",
   "metadata": {},
   "outputs": [],
   "source": [
    "nlm_soft_folder = '/work/acslab/users/manning/NLM_soft'\n",
    "sr_temp_folder = '/work/acslab/users/manning/semrep_temp_jan_2025'\n",
    "sr_replace_utf8_path = '/work/acslab/users/manning/NLM_soft/replace_utf8.jar'"
   ]
  },
  {
   "cell_type": "code",
   "execution_count": 15,
   "id": "859eb65a-fbad-44c7-bb5f-9ccbc6b2c305",
   "metadata": {},
   "outputs": [
    {
     "name": "stdout",
     "output_type": "stream",
     "text": [
      "Existing services killed.\n",
      "Starting wsdserverctl: \n",
      "started.\n",
      "loading properties file /work/acslab/users/manning/NLM_soft/public_mm/WSD_Server/config/disambServer.cfg\n",
      "\n",
      "SKR and WSD services started.\n",
      "WSD Server initializing disambiguation methods.\n",
      "WSD Server databases and disambiguation methods have been initialized.\n"
     ]
    }
   ],
   "source": [
    "t = SemRepHandler(\n",
    "    nlm_soft_path=nlm_soft_folder,\n",
    "    temp_folder=sr_temp_folder,\n",
    "    #restart_mm_services=True,\n",
    "    replace_utf8_path=sr_replace_utf8_path,\n",
    ")"
   ]
  },
  {
   "cell_type": "code",
   "execution_count": 16,
   "id": "70ea2548-eacb-4d14-8277-0274b55d28d2",
   "metadata": {},
   "outputs": [],
   "source": [
    "t.sr_binary_path = Path(\n",
    "    '/work/acslab/users/manning/NLM_soft/public_semrep/bin/semrep.v1.9_2021AB'\n",
    ")"
   ]
  },
  {
   "cell_type": "code",
   "execution_count": null,
   "id": "5104d4bb-4e50-47ac-abcd-1470e9691e7e",
   "metadata": {},
   "outputs": [
    {
     "name": "stdout",
     "output_type": "stream",
     "text": [
      "Run SemRep in interactive mode...\n",
      "Processing input with replace_utf8.jar utility...\n"
     ]
    }
   ],
   "source": [
    "sr_output_dict = t.ProcessList_parallel(pmid_dict, chunkSize=50)"
   ]
  },
  {
   "cell_type": "code",
   "execution_count": 21,
   "id": "4101abd0-3de0-4676-8f5c-c88f53185e56",
   "metadata": {
    "collapsed": true,
    "jupyter": {
     "outputs_hidden": true
    }
   },
   "outputs": [],
   "source": [
    "def get_sr_preds(pmid):\n",
    "    preds = []\n",
    "    for k,v in sr_output_dict.items():\n",
    "        if str(pmid) in k:\n",
    "            preds.append(v.get('relations'))\n",
    "    return preds\n",
    "\n"
   ]
  },
  {
   "cell_type": "code",
   "execution_count": 22,
   "id": "5cce9760-6632-42b8-a139-540882d2e2bb",
   "metadata": {
    "collapsed": true,
    "jupyter": {
     "outputs_hidden": true
    }
   },
   "outputs": [
    {
     "data": {
      "text/html": [
       "<div>\n",
       "<style scoped>\n",
       "    .dataframe tbody tr th:only-of-type {\n",
       "        vertical-align: middle;\n",
       "    }\n",
       "\n",
       "    .dataframe tbody tr th {\n",
       "        vertical-align: top;\n",
       "    }\n",
       "\n",
       "    .dataframe thead th {\n",
       "        text-align: right;\n",
       "    }\n",
       "</style>\n",
       "<table border=\"1\" class=\"dataframe\">\n",
       "  <thead>\n",
       "    <tr style=\"text-align: right;\">\n",
       "      <th></th>\n",
       "      <th>pmid</th>\n",
       "      <th>pmid_text</th>\n",
       "      <th>pmid_embeddings</th>\n",
       "      <th>sr_preds</th>\n",
       "    </tr>\n",
       "  </thead>\n",
       "  <tbody>\n",
       "    <tr>\n",
       "      <th>0</th>\n",
       "      <td>23622459</td>\n",
       "      <td>Mitral annulus calcification and sudden death....</td>\n",
       "      <td>[-0.746443, 0.33572936, -0.23443037, -0.280785...</td>\n",
       "      <td>[[], [{'subj_id': 'C0018787', 'subj_name': 'He...</td>\n",
       "    </tr>\n",
       "    <tr>\n",
       "      <th>1</th>\n",
       "      <td>35184714</td>\n",
       "      <td>Sociodemographic and Diabetes-Related Risk Fac...</td>\n",
       "      <td>[0.00021144087, -0.38737687, -0.26618272, 0.10...</td>\n",
       "      <td>[[], [{'subj_id': 'C0241863', 'subj_name': 'Di...</td>\n",
       "    </tr>\n",
       "    <tr>\n",
       "      <th>2</th>\n",
       "      <td>33583333</td>\n",
       "      <td>Multispectral and molecular modeling investiga...</td>\n",
       "      <td>[-0.5143313, -0.6871651, 0.46939507, 0.2673885...</td>\n",
       "      <td>[[], [{'subj_id': 'C0036774', 'subj_name': 'se...</td>\n",
       "    </tr>\n",
       "    <tr>\n",
       "      <th>3</th>\n",
       "      <td>12958355</td>\n",
       "      <td>Seasonal dynamics of previously unknown fungal...</td>\n",
       "      <td>[0.0639993, -0.31387797, 0.05587074, -0.371296...</td>\n",
       "      <td>[[], [], [], [], [], []]</td>\n",
       "    </tr>\n",
       "    <tr>\n",
       "      <th>4</th>\n",
       "      <td>23530622</td>\n",
       "      <td>pH-responsive assembly of gold nanoparticles a...</td>\n",
       "      <td>[-0.18710473, -0.55765355, -0.4391491, 0.46652...</td>\n",
       "      <td>[[], [], [], [], [], [], [], [], [], [{'subj_i...</td>\n",
       "    </tr>\n",
       "  </tbody>\n",
       "</table>\n",
       "</div>"
      ],
      "text/plain": [
       "       pmid                                          pmid_text  \\\n",
       "0  23622459  Mitral annulus calcification and sudden death....   \n",
       "1  35184714  Sociodemographic and Diabetes-Related Risk Fac...   \n",
       "2  33583333  Multispectral and molecular modeling investiga...   \n",
       "3  12958355  Seasonal dynamics of previously unknown fungal...   \n",
       "4  23530622  pH-responsive assembly of gold nanoparticles a...   \n",
       "\n",
       "                                     pmid_embeddings  \\\n",
       "0  [-0.746443, 0.33572936, -0.23443037, -0.280785...   \n",
       "1  [0.00021144087, -0.38737687, -0.26618272, 0.10...   \n",
       "2  [-0.5143313, -0.6871651, 0.46939507, 0.2673885...   \n",
       "3  [0.0639993, -0.31387797, 0.05587074, -0.371296...   \n",
       "4  [-0.18710473, -0.55765355, -0.4391491, 0.46652...   \n",
       "\n",
       "                                            sr_preds  \n",
       "0  [[], [{'subj_id': 'C0018787', 'subj_name': 'He...  \n",
       "1  [[], [{'subj_id': 'C0241863', 'subj_name': 'Di...  \n",
       "2  [[], [{'subj_id': 'C0036774', 'subj_name': 'se...  \n",
       "3                           [[], [], [], [], [], []]  \n",
       "4  [[], [], [], [], [], [], [], [], [], [{'subj_i...  "
      ]
     },
     "execution_count": 22,
     "metadata": {},
     "output_type": "execute_result"
    }
   ],
   "source": [
    "df['sr_preds'] = df['pmid'].progress_apply(get_sr_preds)\n",
    "df.head()"
   ]
  },
  {
   "cell_type": "code",
   "execution_count": 23,
   "id": "ac1ad2ac-bd40-481a-8d81-4e5e2530694f",
   "metadata": {
    "collapsed": true,
    "jupyter": {
     "outputs_hidden": true
    }
   },
   "outputs": [
    {
     "name": "stdout",
     "output_type": "stream",
     "text": [
      "Bad id: 25869982 Error code: 124\n",
      "Skipped record: 7627597|Measure performance for a greater sense of accountability.\n",
      "\n",
      "Bad id: 21822087 Error code: 124\n",
      "Skipped record: 11992685|Terpenes in ethanol: haloperidol permeation and partition through human skin and stratum corneum changes. Carvacrol, linalool and alpha-terpineol (5% w/v) in 50% ethanol were used to enhance the permeation of haloperidol (HP) through human skin in vitro and their enhancement mechanism was investigated with HP-stratum corneum (SC) binding studies, fourier transform infrared spectroscopy (FT-IR) and differential scanning calorimetry (DSC). Carvacrol followed by terpineol and linalool enhanced flux and permeability coefficient but only carvacrol provided the required plasma concentration and the permeated daily doses. All terpenes increased the activity coefficient of HP in the skin. Carvacrol increased the lag time, which could be due to slow redistribution within SC. The thermogram of hydrated SC showed two lipid endotherms T1 and T2 at 65 and 78 degrees C and protein endotherm T3 at 97 degrees C. All endotherms were absent after SC treated for 48 h with 12 ml of terpene solutions and a decrease in melting points (m.p.) of lipids with a shift of protein endotherm were observed after 12 h treatment with 7 ml of terpene solutions. Linalool and terpineol decreased the m.p. of T1 to 33 degrees C. Carvacrol increased the T1 peak area, which was attributed to lateral lipid bilayer swelling. The IR spectra showed decreases in peak areas and heights of CH2 stretchings but did not show shift of these peaks, increase in their peak widths and shift in amide bands. All the three terpenes disrupted the lipid bilayer and extracted the lipids. Moreover, carvacrol increased the partition of HP whilst linalool and terpineol fluidized the lipids at skin temperature. There could be other possible protein-terpene interactions.\n",
      "\n",
      "Bad id: 1377857 Error code: 124\n",
      "Skipped record: 20141309|Seeing, thinking, and feeling: emotion-regulating effects of gaze-directed cognitive reappraisal. Cognitive reappraisal (CR) is an emotion-regulatory (ER) process that is theorized to operate via changes in appraisals. CR is distinct from attentional deployment (AD), an ER process that is theorized to operate via changes in attention. However, a recent neuroimaging study has suggested that the ER effects of CR might largely be explained by AD. In this study, I manipulated CR while holding visual AD constant across CR conditions. In a randomized within-subjects design, 54 participants used CR to increase and decrease emotion in response to unpleasant pictures. This was compared with simply viewing the pictures. On all trials, gaze was directed to a circumscribed area of the pictures. Even with gaze held constant across conditions, increase reappraisals led to higher ratings of emotional intensity, greater corrugator activity, and greater autonomic arousal. In addition, decrease reappraisals led to lower ratings of emotional intensity and lower corrugator activity, the latter of which held only when gaze was directed to arousing information. Overall, the results suggest that changes in appraisal are the likely mechanism for the ER effects of CR.\n",
      "\n"
     ]
    }
   ],
   "source": [
    "def parse_sr_preds(l):\n",
    "    pairs = []\n",
    "    for sl in l:\n",
    "        if len(sl) < 1:\n",
    "            continue\n",
    "        for rel in sl:\n",
    "            pref_subj_name = rel.get('subj_name')\n",
    "            pref_obj_name = rel.get('obj_name')\n",
    "            pairs.append(tuple(sorted([pref_subj_name, pref_obj_name])))\n",
    "    return pairs\n"
   ]
  },
  {
   "cell_type": "code",
   "execution_count": 24,
   "id": "f7ddd0a9-f629-4ad4-ae86-7926601f793a",
   "metadata": {
    "collapsed": true,
    "jupyter": {
     "outputs_hidden": true
    }
   },
   "outputs": [
    {
     "data": {
      "text/plain": [
       "([[],\n",
       "  [{'subj_id': 'C0036774',\n",
       "    'subj_name': 'serum albumin, bovine',\n",
       "    'subj_text': 'bovine/human serum albumin',\n",
       "    'subj_sem_type': 'aapp',\n",
       "    'subj_negated': False,\n",
       "    'verb': 'PART_OF',\n",
       "    'verb_negated': False,\n",
       "    'obj_id': 'C0086418',\n",
       "    'obj_name': 'Homo sapiens',\n",
       "    'obj_text': 'human',\n",
       "    'obj_sem_type': 'humn',\n",
       "    'obj_negated': False},\n",
       "   {'subj_id': 'C0036774',\n",
       "    'subj_name': 'serum albumin, bovine',\n",
       "    'subj_text': 'bovine/human serum albumin',\n",
       "    'subj_sem_type': 'aapp',\n",
       "    'subj_negated': False,\n",
       "    'verb': 'INTERACTS_WITH',\n",
       "    'verb_negated': False,\n",
       "    'obj_id': 'C0009028',\n",
       "    'obj_name': 'clopidol',\n",
       "    'obj_text': 'clopidol',\n",
       "    'obj_sem_type': 'orch',\n",
       "    'obj_negated': False}],\n",
       "  [],\n",
       "  [],\n",
       "  [{'subj_id': 'C0036774',\n",
       "    'subj_name': 'serum albumin, bovine',\n",
       "    'subj_text': 'BSA/HSA',\n",
       "    'subj_sem_type': 'aapp',\n",
       "    'subj_negated': False,\n",
       "    'verb': 'PART_OF',\n",
       "    'verb_negated': False,\n",
       "    'obj_id': 'C0086418',\n",
       "    'obj_name': 'Homo sapiens',\n",
       "    'obj_text': 'BSA/HSA',\n",
       "    'obj_sem_type': 'humn',\n",
       "    'obj_negated': False},\n",
       "   {'subj_id': 'C0009028',\n",
       "    'subj_name': 'clopidol',\n",
       "    'subj_text': 'clopidol',\n",
       "    'subj_sem_type': 'orch',\n",
       "    'subj_negated': False,\n",
       "    'verb': 'INTERACTS_WITH',\n",
       "    'verb_negated': False,\n",
       "    'obj_id': 'C0036774',\n",
       "    'obj_name': 'serum albumin, bovine',\n",
       "    'obj_text': 'BSA/HSA',\n",
       "    'obj_sem_type': 'aapp',\n",
       "    'obj_negated': False},\n",
       "   {'subj_id': 'C0026408',\n",
       "    'subj_name': 'monensin',\n",
       "    'subj_text': 'Monensin',\n",
       "    'subj_sem_type': 'orch',\n",
       "    'subj_negated': False,\n",
       "    'verb': 'INTERACTS_WITH',\n",
       "    'verb_negated': False,\n",
       "    'obj_id': 'C0036774',\n",
       "    'obj_name': 'serum albumin, bovine',\n",
       "    'obj_text': 'BSA/HSA',\n",
       "    'obj_sem_type': 'aapp',\n",
       "    'obj_negated': False}],\n",
       "  [],\n",
       "  [],\n",
       "  [],\n",
       "  [],\n",
       "  []],\n",
       " [('Homo sapiens', 'serum albumin, bovine'),\n",
       "  ('clopidol', 'serum albumin, bovine'),\n",
       "  ('Homo sapiens', 'serum albumin, bovine'),\n",
       "  ('clopidol', 'serum albumin, bovine'),\n",
       "  ('monensin', 'serum albumin, bovine')])"
      ]
     },
     "execution_count": 24,
     "metadata": {},
     "output_type": "execute_result"
    },
    {
     "name": "stdout",
     "output_type": "stream",
     "text": [
      "Bad id: 9914587 Error code: 124\n",
      "Skipped record: 29631522|Moral Judgment in Old Age. Younger (21-39 years) and older (63-90 years) adults were presented with scenarios illustrating either harmful or helpful actions. Each scenario provided information about the agent's intention, either neutral or valenced (harmful/helpful), and the outcome of his or her action, either neutral or valenced. Participants were asked to rate how morally good or bad the agent's action was. In judging harmful actions, older participants relied less on intentions and more on outcomes compared to younger participants. This age-related difference was associated with a decline in older adults' theory of mind abilities. However, we did not find evidence of any significant age-related difference in the evaluations of helpful actions. We argue that the selective association of aging with changes in the evaluation of harmful but not helpful actions may be due also to motivational factors and highlight some implications of the present findings for judicial systems.\n",
      "\n",
      "Bad id: 27062942 Error code: 124\n",
      "Skipped record: 18500649|Galanin and addiction. There has been increasing interest in the ability of neuropeptides involved in feeding to modulate circuits important for responses to drugs of abuse. A number of peptides with effects on hypothalamic function also modulate the mesolimbic dopamine system (ventral tegmental area and nucleus accumbens). Similarly, common stress-related pathways can modulate food intake, drug reward and symptoms of drug withdrawal. Galanin promotes food intake and the analgesic properties of opiates; thus it initially seemed possible that galanin might potentiate opiate reinforcement. Instead, galanin agonists decrease opiate reward, measured by conditioned place preference, and opiate withdrawal signs, whereas opiate reward and withdrawal are increased in knock-out mice lacking galanin. This is consistent with studies showing that galanin decreases activity-evoked dopamine release in striatal slices and decreases the firing rate of noradrenergic neurons in locus coeruleus, areas involved in drug reward and withdrawal, respectively. These data suggest that polymorphisms in genes encoding galanin or galanin receptors might be associated with susceptibility to opiate abuse. Further, galanin receptors might be potential targets for development of novel treatments for addiction.\n",
      "\n",
      "Bad id: 15489464 Error code: 124\n",
      "Skipped record: 23548332|What can we learn from a decade of promoting safe embryo transfer practices? A comparative analysis of policies and outcomes in the UK and Australia, 2001-2010. Given similar socio-demographic profiles and costs of healthcare, why has Australia been significantly more successful than the UK in reducing the assisted reproductive technology (ART) multiple birth rate? The Australian model of supportive public ART funding, permissive clinical guidelines and an absence of published clinic league tables has enabled Australian fertility specialists to act collectively to achieve rapid and widespread adoption of single embryo transfer (SET). There are striking differences in ART utilization and clinical practice between Australia and the UK. The ART multiple birth rate in Australia is <8% compared with slightly <20% in the UK. The role played by public funding, clinical guidelines, league tables and educational campaigns deserves further evaluation. Parallel time-series analysis was performed on ART treatment and outcome data sourced from the Human Fertilisation and Embryology Authority (HFEA) ART Registry and the Australian and New Zealand Assisted Reproduction Database (ANZARD). Funding arrangements, clinical practice guidelines and key professional and public education campaigns were mapped to trends in clinical practice and ART treatment outcomes between 2001 and 2010. A total of 425 360 and 422 003 autologous treatment cycles undertaken between 2001 and 2010 in the UK and Australia were analysed. From 2001 to 2010, the most striking difference in clinical practice was the increase in SET cycles in Australia from 21 to 70% of cycles, compared with an increase from 8.4 to 31% in the UK. In 2004-2005, both countries introduced clinical guidelines encouraging safe embryo practices, however, Australia has a history of supportive funding for ART, while the National Health Service has a more restrictive and fragmented approach. While clinical guidelines and education campaigns have an important role to play, funding remains a key element in the promotion of SET. This is a descriptive population study and therefore quantifying the independent effect of differential levels of public funding was not possible. With demand for ART continuing to increase worldwide, it is imperative that we remove barriers that impede safe embryo transfer practices. This analysis highlights the importance of supportive public funding in achieving this goal.\n",
      "\n",
      "Bad id: 3478483 Error code: 1\n",
      "Bad id: 20150170 Error code: 124\n",
      "Skipped record: 21886240|All-optical probing of the nonlinear acoustics of a crack. Experiments with an all-optical method for the study of the nonlinear acoustics of cracks in solids are reported. Nonlinear acoustic waves are initiated by the absorption of radiation from a pair of laser beams intensity modulated at two different frequencies. The detection of acoustic waves at mixed frequencies, absent in the frequency spectrum of the heating lasers, by optical interferometry or deflectometry provides unambiguous evidence of the elastic nonlinearity of the crack. The high contrast in crack imaging achieved by remote optical monitoring of the nonlinear acoustic processes is due to the strong dependence of the efficiency of optoacoustic conversion on the state of the crack. The highest acoustic nonlinearity is observed in the transitional state of the crack, which is intermediate between the open and the closed ones.\n",
      "\n",
      "Bad id: 32431330 Error code: 124\n",
      "Skipped record: 9875430|Synthesis and structure-activity relationship studies of substituted isoquinoline analogs as antitumor agent. A number of substituted isoquinolin-1-ones, possible bioisosteres of the 5-aryl substituted 2,3-dihydroimidazo[2,1-a]isoquinolines, were synthesized and tested for their antitumor activity against five different human tumor cell lines. O-(3-hydroxypropyl) substituted compound (15) exhibited the best antitumor activity which is 3-5 times better than 5-[4'-(piperidinomethyl) phenyl]-2,3-dihydroimidazo[2,1-a]isoquinoline (1).\n",
      "\n",
      "Bad id: 29084331 Error code: 124\n",
      "Skipped record: 2034692|Active conformation of an insect neuropeptide family. To understand the structural and chemical basis for insect neuropeptide activity, we have designed, synthesized, and determined the conformation of a biologically active cyclic analog of the pyrokinins, an insect neuropeptide family that mediates myotropic (visceral muscle contractile) activity. Members of this insect neuropeptide family share the common C-terminal pentapeptide sequence Phe-Xaa-Pro-Arg-Leu-NH2 (Xaa = Ser, Thr, or Val). Circular dichroic, nuclear magnetic resonance, and molecular dynamics analyses of the conformationally restricted cyclic pyrokinin analog cyclo(-Asn-Thr-Ser-Phe-Thr-Pro-Arg-Leu-) indicated the presence of a beta-turn in the active core region encompassing residues Thr-Pro-Arg-Leu. The rigid cyclic analog retains biological activity, suggesting that its C-terminal beta-turn is the active pyrokinin conformation recognized by the myotropic receptor. As individual pyrokinins and pyrokinin-like neuropeptides demonstrate both oviduct-contractile and pheromone-biosynthesis activities in various insects, the biologically active beta-turn structure reported here holds broad significance for many biological processes.\n",
      "\n",
      "Bad id: 19873457 Error code: 124\n",
      "Skipped record: 1246434|Radiology of the normal maxillary sinus and related structures. The radiographic anatomy of the maxillary sinus and related structures as shown in the Waters, lateral, submentovertical, and Caldwell views has been presented. A number of structures, which are of clinical importance but infrequently emphasized, are discussed. Careful study of these four standard sinus projections should provide an excellent knowledge of the radiographic anatomy of the maxillary sinus and its normal variants.\n",
      "\n",
      "Bad id: 15937150 Error code: 124\n",
      "Skipped record: 6158275|Preparation of GDP-D-mannose specifically labeled with tritium in the D-mannosyl moiety.\n",
      "\n",
      "Bad id: 8571999 Error code: 124\n",
      "Skipped record: 30334787|Geometric Validation of Continuous, Finely Sampled 3-D Reconstructions From aOCT and CT in Upper Airway Models. Identification and treatment of obstructive airway disorders (OADs) are greatly aided by imaging of the geometry of the airway lumen. Anatomical optical coherence tomography (aOCT) is a promising high-speed and minimally invasive endoscopic imaging modality for providing micrometer-resolution scans of the upper airway. Resistance to airflow in OADs is directly caused by the reduction in luminal cross-sectional area (CSA). It is hypothesized that aOCT can produce airway CSA measurements as accurate as that from computed tomography (CT). Scans of machine hollowed cylindrical tubes were used to develop methods for segmentation and measurement of airway lumen in CT and aOCT. Simulated scans of virtual cones were used to validate 3-D resampling and reconstruction methods in aOCT. Then, measurements of two segments of a 3-D printed pediatric airway phantom from aOCT and CT independently were compared to ground truth CSA. In continuous unobstructed regions, the mean CSA difference for each phantom segment was 2.2 +/- 3.5 and 1.5 +/- 5.3 mm2 for aOCT, and -3.4 +/- 4.3 and -1.9 +/- 1.2 mm2 for CT. Because of the similar magnitude of these differences, these results support the hypotheses and underscore the potential for aOCT as a viable alternative to CT in airway imaging, while offering greater potential to capture respiratory dynamics.\n",
      "\n"
     ]
    }
   ],
   "source": [
    "pd.set_option('max_colwidth', None)\n",
    "df['sr_pairs'] = df['sr_preds'].apply(parse_sr_preds)\n",
    "df.iloc[2]['sr_preds'], df.iloc[2]['sr_pairs']"
   ]
  },
  {
   "cell_type": "code",
   "execution_count": 25,
   "id": "e959db43-1f76-4299-8bee-1c9893617a48",
   "metadata": {
    "collapsed": true,
    "jupyter": {
     "outputs_hidden": true
    }
   },
   "outputs": [
    {
     "name": "stdout",
     "output_type": "stream",
     "text": [
      "Bad id: 21242390 Error code: 124\n",
      "Skipped record: 19138353|Effects of isovalerate on ruminal fermentation, urinary excretion  of purine derivatives and digestibility in steers. The objective of this study was to evaluate the effects of isovalerate supplementation on rumen fermentation, urinary excretion of purine derivatives and feed digestibility in the total tract of steers. Eight ruminally cannulated Simmental steers were used in a replicated 4 . 4 Latin square experiment. The treatments were: control (without isovalerate), low isovalerate (LIV), medium isovalerate (MIV) and high isovalerate (HIV) dosage of isovalerate at 100, 200 and 300 mg isovalerate per kg dry matter (DM) intake respectively. Diets consisted of corn stover and concentrate (60/40, DM basis). Dry matter intake was approximately 9 kg per day that was 90% of ad libitum intake including 5.4 kg corn stover and 3.6 kg concentrate. Ruminal pH (6.72-6.54) was linearly (p < 0.03) reduced, whereas total volatile fatty acid concentration (64.6-74.7 mmol/l) was linearly (p < 0.01) and quadratically (p < 0.01) increased with increasing isovalerate supplementation. Ratio of acetate to propionate increased linearly (p < 0.01) from 2.78 to 3.39 as isovalerate supplementation increased because of the increase in acetate production and decrease in propionate production. In situ ruminal degradation of amylase-treated neutral detergent fibre (aNDF) of corn stover was improved, but crude protein (CP) degradability of soybean meal decreased with increasing isovalerate supplementation. Urinary excretion of purine derivatives was quadratically (p < 0.01) changed by altering isovalerate supplementation (50.5, 54.3, 58.9 and 55.2 mmol/day for control, LIV, MIV and HIV, respectively). Similarly, digestibilities of organic matter, aNDF and CP in the total tract were linearly and quadratically increased with increasing isovalerate supplementation. The results of this study indicate that supplementation of diet with isovalerate improved ruminal fermentation and feed digestion in beef cattle. It was suggested that the isovalerate stimulated the digestive microorganisms or enzymes in a dose-dependent manner.\n",
      "\n",
      "Bad id: 29151271 Error code: 124\n",
      "Skipped record: 9554645|Use of a pulse oximeter in an adult emergency department: impact on the number of arterial blood gas analyses ordered. To assess the impact of pulse oximetry (SpO2) on the indications and the number of arterial blood gas (ABG) levels ordered in an adult emergency department (ED). A prospective study during a 2-month period in 1993 with a pulse oximeter available and a comparison with the same period in 1992 without the oximeter. An adult medical ED of a university hospital in France. All patients who underwent ABG or SpO2 measurements. During the prospective study, residents ordered ABG or SpO2 measurements at their discretion. The reasons for their ordering were reviewed by two independent experts who determined whether their choice was justified. The data were compared with those for 184 consecutive patients who had ABG measurements in 1992. The study included 152 patients. SpO2 alone was used in 33 patients; ABG levels were measured in 119 patients. The use of SpO2 did not result in the ordering of fewer useful ABG determinations. One hundred and five (88%) ABG measurements were justified. There were fewer unjustified ABG determinations in 1993 when the pulse oximeter was available than in 1992 when it was not (14 of 119 vs 54 of 184; p<0.001) mainly because fewer ABG determinations were ordered for miscellaneous nonrespiratory indications (13 of 119 vs 43 of 184; p<0.01). The availability of a pulse oximeter did not affect the ordering of useful ABG measurements but allowed a significant reduction of unjustified ABG measurements. Substantial cost savings could be achieved by using SpO2 in an ED.\n",
      "\n",
      "Bad id: 32443008 Error code: 124\n",
      "Skipped record: 1622258|Biodegradation of bisphenol A and other bisphenols by a gram-negative aerobic bacterium. A novel bacterium designated strain MV1 was isolated from a sludge enrichment taken from the wastewater treatment plant at a plastics manufacturing facility and shown to degrade 2,2-bis(4-hydroxyphenyl)propane (4,4'-isopropylidenediphenol or bisphenol A). Strain MV1 is a gram-negative, aerobic bacillus that grows on bisphenol A as a sole source of carbon and energy. Total carbon analysis for bisphenol A degradation demonstrated that 60% of the carbon was mineralized to CO2, 20% was associated with the bacterial cells, and 20% was converted to soluble organic compounds. Metabolic intermediates detected in the culture medium during growth on bisphenol A were identified as 4-hydroxybenzoic acid, 4-hydroxyacetophenone, 2,2-bis(4-hydroxyphenyl)-1-propanol, and 2,3-bis(4-hydroxyphenyl)-1,2-propanediol. Most of the bisphenol A degraded by strain MV1 is cleaved in some way to form 4-hydroxybenzoic acid and 4-hydroxyacetophenone, which are subsequently mineralized or assimilated into cell carbon. In addition, about 20% of the bisphenol A is hydroxylated to form 2,2-bis(4-hydroxyphenyl)-1-propanol, which is slowly biotransformed to 2,3-bis(4-hydroxyphenyl)-1,2-propanediol. Cells that were grown on bisphenol A degraded a variety of bisphenol alkanes, hydroxylated benzoic acids, and hydroxylated acetophenones during resting-cell assays. Transmission electron microscopy of cells grown on bisphenol A revealed lipid storage granules and intracytoplasmic membranes.\n",
      "\n",
      "Bad id: 29628451 Error code: 124\n",
      "Skipped record: 25059759|Circulatory responses to lower body negative pressure in young Afghans and Danes: implications for understanding ethnic effects on blood pressure regulation. We have previously shown that Afghans residing in Denmark for at least 12 years exhibit a lower 24-h ambulatory blood pressure compared to Danes. The purpose of this study was to test the hypothesis that the lower blood pressure reflects attenuated compensatory baroreflex responses in the Afghans. On a controlled diet (2,822 cal/day, 55-75 mmol + 2 mmol Na+/kg/day), 12 young males of Afghan (Afghans) and 12 young males of Danish (Danes) origin were exposed to a two-step lower body negative pressure (LBNP) protocol of -20 and -50 mmHg, respectively, each of 10-min duration. Afghans had lower 24-h systolic blood pressure compared to Danes (115 +/- 2 vs. 123 +/- 1 mmHg, p < 0.05). Cardiac output and stroke volume were significantly lower in Afghans compared to Danes prior to and during each level of LBNP. However, it decreased to the same extent in both groups during LBNP. During LBNP of -20 mmHg, plasma noradrenaline concentration and plasma renin activity (PRA) increased significantly only in the Afghans. At LBNP of -50 mmHg plasma noradrenaline concentration and PRA both increased significantly and similarly in the two groups. The lower 24-h ambulatory blood pressure in the Afghans is probably caused by a lower stroke volume, which augmented the circulatory and vasoactive hormonal responses to LBNP in the Afghans. The lower stroke volume in Afghans residing in Denmark compared to that of matched native Danes remains to be explained.\n",
      "\n",
      "Bad id: 25179090 Error code: 124\n",
      "Skipped record: 29353752|Steam explosion enhances digestibility and fermentation of corn stover by facilitating ruminal microbial colonization. The purpose of this study was to evaluate steam explosion as a pretreatment to enhance degradation of corn stover by ruminal microbiome. The steam explosion conditions were first optimized, and then the efficacy of steam explosion was evaluated both in vitro and in vivo. Steam explosion altered the physical and chemical structure of corn stover as revealed by scanning electron microscopy (SEM) and Fourier-transform infrared (FTIR) spectroscopy, respectively, and increased its cellulose content while decreasing hemicellulose content. Steam-exploded corn stover also increased release of reducing sugars, rate of fermentation, and production of volatile fatty acids (VFAs) in vitro. The steam explosion treatment increased microbial colonization and in situ degradation of cellulose and hemicellulose of corn stover in the rumen of dairy cows. Steam explosion may be a useful pretreatment of corn stover to improve its nutritional value as forage for cattle, or as feedstock for biofuel production.\n",
      "\n",
      "Bad id: 2562132 Error code: 124\n",
      "Skipped record: 35356778|Evaluation and Preparation of a Designed Kartogenin Drug Delivery System (DDS) of Hydrazone-Linkage-Based pH Responsive mPEG-Hz-b-PCL Nanomicelles for Treatment of Osteoarthritis.  Osteoarthritis (OA) is a chronic disease caused by the damage of articular cartilage.  Kartogenin (KGN) is a well-recognized small molecule which could induce MSCs chondrogenesis and promote cartilage repair treatments.  Nano-level micells could be a suitable drug carrier technology for the treatments.  In this study, the acid-responsive methoxy poly(ethylene oxide)-hydrazone-poly(epsilon-caprolactone) copolymers, mPEG-Hz-b-PCL, were synthesized.  The structure was characterized by 1H NMR.  The evaluation of a designed kartogenin drug delivery system (DDS) of hydrazone-linkage-based pH responsive mPEG-Hz-b-PCL nanomicelles for treatment of osteoarthritis could be carried out. \n",
      "\n",
      "Bad id: 34234209 Error code: 124\n",
      "sed degradation among genomic regions and emphasize the need to assess sample integrity immediately prior to real-time qPCR experiments.reaction assays. The recent implication of genomic copy number variations (CNVs) in multiple human genetic disorders has led to increased interest in CNV discovery technologies. There is a growing consensus that, in addition to the method used for detection, at least one additional technology should be employed for validation. Real-time quantitative polymerase chain reaction (qPCR) analysis, incorporating a normal (2N) copy number standard, is commonly used as a means of validating CNVs. Whereas it has previously been reported that formalin-fixed paraffin-embedded (FFPE) DNA samples can yield spurious CNV calls in real-time qPCR assays, here we report that sample degradation under standard laboratory storage conditions generates a significant increase in false-positive CNV results. Results suggest the possibility of bia\n",
      "\n",
      "Bad id: 17723886 Error code: 124\n",
      "Skipped record: 30318465|Management of Urethritis: Is It Still the Time for Empirical Antibiotic Treatments? Urethritis prevalence in Europe changed in the last years due to both the increase of migratory streams from North Africa and the more frequent exposition of males to relevant risk factors. Owing to these reasons, urethritis treatment should be optimized by accurate microbiological investigations to avoid the risk of persistence, recurrence, or reinfection. The aim of this systematic review is to optimize the treatments for urethritis and investigate the applicability of nucleic acid amplification test (NAAT) as the primary microbiological investigation. A literature search in Medline, Cochrane, and Google Scholar databases was conducted up to June 2018. Subject headings were selected as follows: Urethritis OR gonococcal urethritis OR non-gonococcal urethritis AND Antibiotics OR Recurrence. A total of 528 abstracts were identified and selected. Finally, 12 full-text articles were selected for a qualitative synthesis. 878 The Preferred Reported Items for Systematic Reviews and Meta-Analyses statement was used to perform an accurate research checklist and report. Empirical treatments are no more recommended, although a broad spectrum of antibiotic therapy may be initiated while awaiting the results from pathogens' microbiological characterization. First-line treatment for gonococcal urethritis consists of a single dose of ceftriaxone/azithromycin combined therapy. Specific therapies should be initiated for nongonococcal urethritis according to each single pathogen involved in the infection process. Owing to this reason, NAAT is mandatory in the clinical approach to the disease, although the Gram stain of urethral discharge or smear remains applicable for some less frequent nongonococcal urethritis. Moreover, the urethritis \"modern view\" also includes noninfectious etiologies that occurred after traumas or injection of irritating compounds. Sexual abstinence of at least 7 d should be observed from the start of treatment to avoid reinfection, while sexual partners should evenly be treated. The treatment of urethritis implies accurate determination of pathogens involved in the infection process by NAAT with subsequent appropriate antibiotic therapy, thus avoiding the risk of antibiotic resistance and overuse of antibiotics indicated for empirical treatments. The population exposed to relevant risk factors should be adequately informed about the increased risk of developing infections and motivated toward the intensive use of condoms during sexual intercourses. Urethritis is a sexually transmitted disease generally characterized by urethral discharge or other symptoms such as itching, tingling, and apparent difficulties in having a regular urinary flow. Microbiological investigations are mandatory to obtain satisfactory results from the treatment. Multiple antibiotic treatments are often necessary due to the high risk of multiple pathogens responsible for the disease. Similarly, sexual partners should be investigated and treated in the same way. Several risk factors such as immunodeficiency, multiple sexual partners, homo- and bisexuality, and alcohol abuse may be related to the disease. In these cases, the use of condom is strongly recommended.\n",
      "\n",
      "Bad id: 23403212 Error code: 124\n",
      "Skipped record: 35863235|Fabrication of copolymer brushes grafted superporous agarose gels: Towards the ultimate ideal particles for efficient affinity chromatography.  A composite immobilized-metal affinity agarose particle was designed for the selective separation and purification of histidine-tagged proteins from complicated biological samples.  The composite particle was constructed using superporous agarose particles as supporting matrix, flexible copolymer brushes as scaffolds to render higher ligand densities, and Ni2+-chelated iminodiacetic acids as recognition elements.  Superporous agarose composite particles endow high permeability and interfering substance tolerance.  The copolymer brush was prepared by surface-initiated atom transfer radical polymerization of N-isopropylacrylamide and glycidyl methacrylate, followed by iminodiacetic acids and Ni2+ ions.  The physical and chemical properities of the composite particle were thoroughly investigated.  The composite particles were shown to be able to selectively separate histidine-tagged recombinant proteins in the presence of high quantities of interfering chemicals in a model protein-binding experiment.  By altering the temperature, the protein binding of the composite particles can be modulated.  The superporous agarose particles supported polymer brush enables fast and efficient separation and purification of target proteins with high permeability, low backpressure, and high interfering matrix tolerance, which pave the path for bioseparation through designing and fabrication of novel agarose particles-based functional materials. \n",
      "\n",
      "Bad id: 8391072 Error code: 124\n",
      "Skipped record: 9464598|CREST: carotid revascularization endarterectomy versus stent trial.\n",
      "\n",
      "Bad id: 19584980 Error code: 124\n",
      "minopeptidase activities of each extract suggesting that the peptides compete with the Ala-pNA as substrates. With each extract, adipokinetic hormone appeared to be the more effective substrate. Digestion of adipokinetic hormone by C. elegans and P. redivivus extracts in the presence and absence of 1 mM amastatin produced distinct chromatographic profiles that suggest different digestion patterns for the two species. However, amastatin had clear effects on chromatographic profiles from each species indicating that an aminopeptidase is involved in the digestion of the peptide substrates. The data presented indicate that extracts of free-living nematodes are capable of metabolizing peptide hormones, and that this metabolism involves substrate-selective aminopeptidases.ides adipokinetic hormone and substance P decrease the apparent a\n",
      "\n",
      "Bad id: 32201360 Error code: 124\n",
      "Skipped record: 9016929|Altered vasodilator response of coronary microvasculature in pacing-induced congestive heart failure. To characterize vasodilator capacity of small coronary arteries (200-350 microm diameter) in the setting of congestive heart failure, we examined relaxation responses to acetylcholine (10(-9)-10(-4) M) and nitroglycerin (10(-9)-10(-4) M), in the absence and presence of the nitric oxide precursor, L-arginine (10(-4) M). Congestive heart failure was reliably induced in dogs by rapid ventricular pacing (250 beats.min(-1) for 4 weeks). Maximum relaxations (means +/- S.E.) to each vasodilator are expressed as a percentage of the relaxation response to papaverine (10(-4) M). Relaxation responses to the endothelium-dependent relaxing agent, acetylcholine, were not altered at heart failure, or in the presence of L-arginine. Contrary to acetylcholine, relaxations to nitroglycerin were significantly enhanced in heart failure compared to control (83 +/- 25% vs. 25 +/- 6%, respectively, P < 0.05). Although L-arginine, alone, did not cause any vasodilator response in coronary microvessels, it was able to potentiate nitroglycerin relaxations at control (no L-arginine: 25 +/- 6% vs. L-arginine: 135 +/- 66%). In contrast, at heart failure, L-arginine diminished nitroglycerin relaxations (no L-arginine: 83 +/- 25%, vs. L-arginine: 48 +/- 15%). These data indicate a unique vasodilator profile in small coronary arteries at heart failure: endothelium-dependent relaxations are unaltered, whereas responses to nitroglycerin are augmented. Addition of the nitric oxide precursor, L-arginine, did not affect acetylcholine relaxation, yet surprisingly had a differential effect in response to nitroglycerin. Moreover, inhibition of nitric oxide synthase with N(omega)-nitro-L-arginine elicited concentration-dependent constriction in heart failure but not control coronary microvessels. In summary, our study suggests an important role for nitric oxide in vasodilator control of coronary microvessels, which may modify nitrovasodilator therapy in congestive heart failure.\n",
      "\n",
      "Bad id: 11421499 Error code: 124\n",
      "Skipped record: 4482581|Now I've been there.\n",
      "\n",
      "Bad id: 25950123 Error code: 124\n",
      "tions are discussed. Overall, results of the survey present a lack of agreement as to the best approach in this situation. Physicians, when compared to other team members, are more likely to provide a specific recommendation vs. to present the information and let the family decide (odds ratio (95% confidence interval)=4.0 (1.2-12.8), p=0.021). A shared decision-making model, stressing our moral obligation as clinicians to respect autonomy by appreciating family values while offering to participate in the decision-making process and ensuring non-maleficence, is presented. In summary, CFTR modulators affect the outcomes of CF disease and influence clinical decision-making. Current lack of data on long-term outcomes, in young patients with CF receiving effective modulator therapy, should not preclude CF team participation in decision-making. Shared decision-making which is focused on respecting autonomy is our preferred approach in these situations.\n",
      "\n",
      "Bad id: 5353087 Error code: 124\n",
      "Skipped record: 22394116|Robot-assisted transhiatal esophagectomy: a 3-year single-center experience. Minimally invasive esophagectomy has emerged as an important procedure for disease management in esophageal cancer (EC) with clear margin status, less morbidity, and shorter hospital stays compared with open procedures. The experience with transhiatal approach robotic esophagectomy (RE) for dissection of thoracic esophagus and associated morbidity is described here. Between March 2007 and November 2010, 40 patients with resectable esophageal indications underwent transhiatal RE at the institute. Clinical data for all patients were collected prospectively. Of 40 patients undergoing RE, one patient had an extensive benign stricture, one had high-grade dysplasia, and 38 had EC. Five patients were converted from robotic to open. Median operative time and estimated blood loss were 311 minutes and 97.2 mL, respectively. Median intensive care unit stay was 1 day (range, 0-16), and median length of hospital stay was 9 days (range, 6-36). Postoperative complications frequently observed were anastomotic stricture (n= 27), recurrent laryngeal nerve paresis (n= 14), anastomotic leak (n= 10), pneumonia (n= 8), and pleural effusion (n= 18). Incidence rates of laryngeal nerve paresis (35%) and leak rate (25%) were somewhat higher in comparison with that reported in literature. However, all vocal cord injuries were temporary, and all leaks healed following opening of the cervical incision and drainage. None of the patients died in the hospital, and 30-day mortality was 2.5% (1/40). Median number of lymph nodes removed was 20 (range, 3-38). In 33 patients with known lymph node locations, median of four (range, 0-12) nodes was obtained from the mediastinum, and median of 15 (range, 1-26) was obtained from the abdomen. R0 resection was achieved in 94.7% of patients. At the end of the follow-up period, 25 patients were alive, 13 were deceased, and 2 patients were lost to follow-up. For patients with EC, median disease-free survival was 20 months (range, 3-45). Transhiatal RE, by experience, is a feasible albeit evolving oncologic operation with low hospital mortality. The benefits include minimally invasive mediastinal dissection without thoracotomy or thoracoscopy. A reasonable operative time with minimal blood loss and postoperative morbidity can be achieved, in spite of the technically demanding nature of the procedure. Broader use of this technology in a setting of high-volume comprehensive surgical programs will almost certainly reduce the complication rates. Robotic tanshiatal esophagectomy with the elimination of a thoracic approach should be considered an option for the appropriate patient population in a comprehensive esophageal program.\n",
      "\n",
      "Bad id: 24986778 Error code: 124\n",
      "Skipped record: 7929196|LIM domain recognition of a tyrosine-containing tight turn. Endocytosis of cell surface receptors requires sequence \"codes\" consisting of tight turn structures with an essential Tyr or Phe residue. To determine mechanisms through which cells recognize this information, we utilized exon 16 of the human insulin receptor in the two-hybrid system to isolate a novel 455-amino acid cytoplasmic protein that contains two LIM domains within its carboxyl terminus. Mutational analyses indicate that one of the Cys-rich Zn2+ binding LIM domains specifically recognizes active but not inactive endocytic codes contained in exon 16. These findings suggest that LIM domain structures in proteins provide molecular recognition of Tyr-containing tight turn structures.\n",
      "\n",
      "Bad id: 31587658 Error code: 124\n",
      "Skipped record: 22739535|Cation transport goes with the flow.\n",
      "\n",
      "Bad id: 2522784 Error code: 124\n",
      "Skipped record: 2860705|Effect of chronic ethanol or acetaldehyde on hepatic alcohol and aldehyde dehydrogenases, aminotransferases and glutamate dehydrogenase. Ethanol or acetaldehyde orally administered (15% and 2% respectively in drinking water) to male Wistar rats for three months induced alterations in the main liver enzymes responsible for ethanol metabolism, aspartate and alanine aminotransferases and NAD glutamate dehydrogenase. Ethanol produced a significant decrease in the activity of soluble alcohol dehydrogenase, while acetaldehyde induced alterations both in soluble and mitochondrial aldehyde dehydrogenases: soluble activity was significantly higher than in the control and ethanol-treated groups, and mitochondrial activity was significantly diminished. Both soluble aspartate and alanine aminotransferases showed pronounced increases by the chronic effect of acetaldehyde, while mitochondrial activities were practically unchanged by the effect of ethanol or acetaldehyde. Mitochondrial NAD glutamate dehydrogenase showed a rise in its activity both by the effect of chronic ethanol and acetaldehyde consumption. The level of metabolites assayed in liver extracts showed marked differences between ethanol and acetaldehyde treatment which indicates that ethanol produced a remarkable increase in glutamate, aspartate and free ammonia together with marked decrease in pyruvate and 2-oxoglutarate concentrations. Acetaldehyde consumption induced a significant decrease in 2-oxoglutarate and pyruvate concentrations. These observations suggest that ethanol has an important effect on the urea cycle enzymes, while the effect of acetaldehyde contributes to the impairment of the citric acid cycle.\n",
      "\n",
      "Bad id: 16627288 Error code: 1\n",
      "Skipped record: 1339775|Effects of the butyric short-chain fatty acid on the bioelectric brain activity of rabbits. The effects of the butyric short-chain fatty acid, an agent with proved comagenic action, on the bioelectric brain activity of rabbits was studied. In all monopolar leads, paroxysms were recorded which manifested themselves 15 to 30 minutes after the infusion of butyrate. The analysis used F2 exogenic prostaglandins and indomethacin, an inhibitor of prostaglandin synthesis. It was found that the system for prostaglandin synthesis plays a role in the effects of butyrate.\n",
      "\n",
      "Bad id: 26394352 Error code: 124\n",
      " 19/50 patients (38.0%) treated with two antipsychotics (p < 0.001). In patients treated with one antipsychotic that developed ADRs, the time to ADRs was 4.0 +/- 4.0 days after antipsychotic initiation and 2.7 +/- 2.4 days after an increase in the antipsychotic dose. The time to ADRs in those treated with two antipsychotics was 3.0 +/- 2.3 days after the addition of the second antipsychotic and 1.6 +/- 0.8 days after a dose increase in the second antipsychotic. The incidence of ADRs during antipsychotic monotherapy was 10.5% with first-generation antipsychotics (FGAs) and 2.2% with second-generation antipsychotics (SGAs; p = 0.037). The antipsychotic was changed due to ADRs in 12/30 (40.0%) of ADR cases. Independent factors associated with ADRs were antipsychotic polypharmacy (p < 0.0001), inpatient treatment (p = 0.013), FGA use (p = 0.015), and diagnoses of schizophrenia (p = 0.039) or bipolar disorder (p < 0.0001). Conclusion: SGAs and low-potency FGA monotherapy in children and adolescents were associated with a relatively low ADR risk, whereas high- and mid-potency FGAs were associated with a high risk. Independent predictors of ADRs were antipsychotic polypharmacy, inpatient treatment, FGAs, and schizophrenia or bipolar disorder diagnoses, which may be related to more aggressive antipsychotic dosing.\n",
      "\n",
      "Bad id: 20654531 Error code: 124\n",
      "Skipped record: 8942861|Intraocular lens implantation: has it become the standard of care for children?\n",
      "\n",
      "Bad id: 17567118 Error code: 124\n",
      "Skipped record: 26606464|Human Migration and Leishmaniasis-On the Move.\n",
      "\n",
      "Bad id: 21307390 Error code: 124\n",
      "Bad id: 26279782 Error code: 124\n",
      "Skipped record: 35362271|Visible-Light-Driven Photocatalysis-Enhanced Nanozyme of TiO2 Nanotubes@MoS2 Nanoflowers for Efficient Wound Healing Infected with Multidrug-Resistant Bacteria. \n",
      "\n",
      "Bad id: 31320980 Error code: 124\n",
      "Skipped record: 2795428|Clinical utility of a new and simple technique for individualizing phenytoin dosage. Wagner proposed a new and simple method to predict dosage of drugs obeying simple Michaelis-Menten elimination kinetics. From his theory the following equation, Dn = Do + 1n (Cd/Co)/S can be derived, which forms the basis of predicting the required dosage (Dn) to obtain a desired steady-state concentration (Cd), using initial steady-state concentration (Co), obtained with initial dose (Do) and a population value of S for the drug. We retrospectively investigated the value of S for phenytoin (PHT) in a population of 55 outpatients who had three or more reliable measurements of the steady-state concentration of PHT in serum, measured while they were taking different daily doses. The value of S for PHT was estimated to be 0.0122759 in Japanese patients. The predictive performance of this equation was compared with Bayesian feedback method (B) using retrospective data from 220 outpatients. This equation yielded mean error (ME) of 0.0, mean absolute error (MAE) of 30.7 and root mean squared error (RMSE) of 40.9 mg/d compared to ME of -2.5, MAE of 30.3 and RMSE of 40.1 mg/d for B method. These results indicate that this equation may be a useful adjunct for prediction of PHT dosage as well as B method. Moreover, the simplicity of the equation allows calculation on a hand-held calculator.\n",
      "\n",
      "Bad id: 20181999 Error code: 124\n",
      "Skipped record: 11183762|Soft money is hard to find.\n",
      "\n",
      "Bad id: 23297310 Error code: 124\n",
      "Skipped record: 34080650|Low-calorie sweetener D-psicose promotes hydrogen peroxide-mediated apoptosis in C2C12 myogenic cells favoring skeletal muscle cell injury. Diet and exercise are the most effective approaches used to induce weight loss. D-psicose is a low-calorie sweetener that has been shown to reduce weight in obese individuals. However, the effect of D-psicose on muscle cells under oxidative stress, which is produced during exercise, requires further investigation. The present study aimed to determine the effects of D-psicose on C2C12 myogenic cells in vitro. Hydrogen peroxide (H2O2) was used to stimulate the generation of intracellular reactive oxygen species (ROS) in muscle cells to mimic exercise conditions. Cell viability was analyzed using a MTT assay and flow cytometry was used to analyze the levels of apoptosis, mitochondrial membrane potential (MMP), the generation of ROS and the cell cycle distribution following treatment. Furthermore, protein expression levels were analyzed using western blotting and cell proliferation was determined using a colony formation assay. The results of the present study revealed that D-psicose alone exerted no toxicity on C2C12 mouse myogenic cells. However, in the presence of low-dose (100 uM) H2O2-induced ROS, D-psicose induced C2C12 cell injury and significantly decreased C2C12 cell viability in a dose-dependent manner. In addition, the levels of apoptosis and the generation of ROS increased, while the MMP decreased. MAPK family molecules were also activated in a dose-dependent manner following treatment. Notably, the combined treatment induced G2/M phase arrest and reduced the proliferation of C2C12 cells. In conclusion, the findings of the present study suggested that D-psicose may induce toxic effects on muscle cells in a simulated exercise situation by increasing ROS levels, activating the MAPK signaling pathway and disrupting the MMP.\n",
      "\n",
      "Bad id: 33107963 Error code: 124\n",
      "Skipped record: 32284566|Structure of polymerized type V pilin reveals assembly mechanism involving protease-mediated strand exchange. Bacterial adhesion is a general strategy for host-microbe and microbe-microbe interactions. Adhesive pili are essential for colonization, biofilm formation, virulence and pathogenesis of many environmental and pathogenic bacteria1,2. Members of the class Bacteroidia have unique type V pili, assembled by protease-mediated polymerization3. Porphyromonas gingivalis is the main contributor to periodontal disease and its type V pili are a key factor for its virulence4. However, the structure of the polymerized pilus and its assembly mechanism are unknown. Here we show structures of polymerized and monomeric states of FimA stalk pilin from P. gingivalis, determined by cryo-electron microscopy and crystallography. The atomic model of assembled FimA shows that the C-terminal strand of a donor subunit is inserted into a groove in the beta-sheet of an acceptor subunit after N-terminal cleavage by the protease RgpB. The C terminus of the donor strand is essential for polymerization. We propose that type V pili assemble via a sequential polar assembly mechanism at the cell surface, involving protease-mediated strand exchange, employed by various Gram-negative species belonging to the class Bacteroidia. Our results reveal functional surfaces related to pathogenic properties of polymerized FimA. These insights may facilitate development of antibacterial drugs.\n",
      "\n",
      "Bad id: 26113082 Error code: 124\n",
      "Skipped record: 26143606|Short-column anion-exchange chromatography for soil and peat humic substances profiling by step-wise gradient of high pH aqueous sodium ethylenediaminetetraacetate. Novel anion-exchange liquid chromatographic method with step gradient of aqueous EDTA(4-) based mobile phase elution has been developed to profile available Slovak soil humic substances and alkaline extracts of various soils. The method utilize short glass column (30mm*3mm) filled in with hydrolytically stable particles (60mum diameter) Separon HEMA-BIO 1000 having (diethylamino)ethyl functional groups. Step gradient was programmed by mixing mobile phase composed of aqueous solution of sodium EDTA (pH 12.0; 5mmolL(-1)) and mobile phase constituted of aqueous solution of sodium EDTA (pH 12.0, 500mmolL(-1)). The FLD of HSs was set to excitation wavelength 480nm and emission wavelength 530nm (lambdaem). Separation mechanism was studied by use of selected aromatic acids related to humic acids with the aid of UV spectrophotometric detection at 280nm. The proposed method benefits from high ionic strength (I=5molL(-1)) of the end mobile phase buffer and provides high recovery of humic acids (98%). Accurate and reproducible profiling of studied humic substances, alkaline extracts of various types of soils enables straightforward characterization and differentiation of HSs in arable and forest soils. Selected model aromatic acids were used for separation mechanism elucidation.\n",
      "\n",
      "Bad id: 16157277 Error code: 1\n",
      "Skipped record: 27458337|Atypical Brain Mechanisms of Prediction According to Uncertainty in Autism. Resistance to change is often reported in autism and may arise from an inability to predict events in uncertain contexts. Using EEG recorded in 12 adults with autism and age-matched controls performing a visual target detection task, we characterized the influence of a certain context (targets preceded by a predictive sequence of three distinct stimuli) or an uncertain context (random targets) on behavior and electrophysiological markers of predictive processing. During an uncertain context, adults with autism were faster than controls to detect targets. They also had an enhancement in CNV amplitude preceding all random stimuli-indexing enhanced preparatory mechanisms, and an earlier N2 to targets-reflecting faster information processing-compared to controls. During a certain context, both controls and adults with autism presented an increase in P3 amplitude to predictive stimuli-indexing information encoding of the predictive sequence, an enhancement in CNV amplitude preceding predictable targets-corresponding to the deployment of preparatory mechanisms, and an earlier P3 to predictable targets-reflecting efficient prediction building and implementation. These results suggest an efficient extraction of predictive information to generate predictions in both controls and adults with autism during a certain context. However, adults with autism displayed a failure to decrease mu power during motor preparation accompanied by a reduced benefit in reaction times to predictable targets. The data reveal that patients with autism over-anticipate stimuli occurring in an uncertain context, in accord with their sense of being overwhelmed by incoming information. These results suggest that adults with autism cannot flexibly modulate cortical activity according to changing levels of uncertainty.\n",
      "\n",
      "Bad id: 28089362 Error code: 124\n",
      "Skipped record: 26042810|Inferring regulatory networks from experimental morphological phenotypes: a computational method reverse-engineers planarian regeneration. Transformative applications in biomedicine require the discovery of complex regulatory networks that explain the development and regeneration of anatomical structures, and reveal what external signals will trigger desired changes of large-scale pattern. Despite recent advances in bioinformatics, extracting mechanistic pathway models from experimental morphological data is a key open challenge that has resisted automation. The fundamental difficulty of manually predicting emergent behavior of even simple networks has limited the models invented by human scientists to pathway diagrams that show necessary subunit interactions but do not reveal the dynamics that are sufficient for complex, self-regulating pattern to emerge. To finally bridge the gap between high-resolution genetic data and the ability to understand and control patterning, it is critical to develop computational tools to efficiently extract regulatory pathways from the resultant experimental shape phenotypes. For example, planarian regeneration has been studied for over a century, but despite increasing insight into the pathways that control its stem cells, no constructive, mechanistic model has yet been found by human scientists that explains more than one or two key features of its remarkable ability to regenerate its correct anatomical pattern after drastic perturbations. We present a method to infer the molecular products, topology, and spatial and temporal non-linear dynamics of regulatory networks recapitulating in silico the rich dataset of morphological phenotypes resulting from genetic, surgical, and pharmacological experiments. We demonstrated our approach by inferring complete regulatory networks explaining the outcomes of the main functional regeneration experiments in the planarian literature; By analyzing all the datasets together, our system inferred the first systems-biology comprehensive dynamical model explaining patterning in planarian regeneration. This method provides an automated, highly generalizable framework for identifying the underlying control mechanisms responsible for the dynamic regulation of growth and form.\n",
      "\n",
      "Bad id: 2498076 Error code: 124\n",
      "Skipped record: 27792309|Novel Process of Simultaneous Removal of Nitric Oxide and Sulfur Dioxide Using a Vacuum Ultraviolet (VUV)-Activated O2/H2O/H2O2 System in A Wet VUV-Spraying Reactor. A novel process for NO and SO2 simultaneous removal using a vacuum ultraviolet (VUV, with 185 nm wavelength)-activated O2/H2O/H2O2 system in a wet VUV-spraying reactor was developed. The influence of different process variables on NO and SO2 removal was evaluated. Active species (O3 and .OH) and liquid products (SO32-, NO2-, SO42-, and NO3-) were analyzed. The chemistry and routes of NO and SO2 removal were investigated. The oxidation removal system exhibits excellent simultaneous removal capacity for NO and SO2, and a maximum removal of 96.8% for NO and complete SO2 removal were obtained under optimized conditions. SO2 reaches 100% removal efficiency under most of test conditions. NO removal is obviously affected by several process variables. Increasing VUV power, H2O2 concentration, solution pH, liquid-to-gas ratio, and O2 concentration greatly enhances NO removal. Increasing NO and SO2 concentration obviously reduces NO removal. Temperature has a dual impact on NO removal, which has an optimal temperature of 318 K. Sulfuric acid and nitric acid are the main removal products of NO and SO2. NO removals by oxidation of O3, O., and .OH are the primary routes. NO removals by H2O2 oxidation and VUV photolysis are the complementary routes. A potential scaled-up removal process was also proposed initially.\n",
      "\n",
      "Bad id: 3490514 Error code: 124\n",
      "Skipped record: 28095646|A frog's view of EphrinB signaling. Cell-cell and cell-substrate adhesion are essential to the proper formation and maintenance of tissue patterns during development, and deregulation of these processes can lead to invasion and metastasis of cancer cells. Cell surface adhesion and signaling molecules are key players in both normal development and cancer progression. One set of cell surface proteins, the Eph receptor tyrosine kinases and their membrane-bound ligands, ephrins, are significant regulators of these processes. During embryonic development, the Eph/ephrin signaling system is involved in cell-cell contact events that result in cell sorting and boundary formation between receptor and ligand bearing cells. When migrating cells that display the membrane bound ligands or receptors come in contact with cells bearing the cognate partner, the response may be adhesion or repulsion, ultimately leading to the proper positioning of these cells. During cancer progression, the signaling between these receptor/ligand pairs is often deregulated, leading to increased invasion and metastasis. To gain mechanistic insight into the pathways that mediate Eph receptor and ephrin signaling we have relied upon a very tractable system, the frog Xenopus. This model system has proven to be extremely versatile, and represents a relatively quick and manipulable system to explore signaling events and the in vivo processes affected by these signals.\n",
      "\n",
      "Bad id: 31981983 Error code: 1\n",
      "Skipped record: 6988938|Immunoglobulin-producing cells in jejunal mucosa of children with coeliac disease on a gluten-free diet and after gluten challenge. The jejunal Ig-producing cell populations in a group of 12 children with established coeliac disease (CD) in remission on a gluten-free diet were compared with those of a group of 10 patients in clinical relapse after gluten challenge. Quantification of the various immunocyte classes was performed by paired immunofluorescence staining in an individually defined mucosal tissue unit constituting a 6-micron-thick and 500-micron-wide block of tissue, including the mucosa at full height from the muscularis mucosae. In the treated group the percentage IgA/IgM/IgG cell ratios were, on the average, 82.6:12.9:4.5. There were no differences in these ratios or in the absolute immunocyte numbers when compared with a group of six control patients without CD. After gluten challenge the corresponding ratios were 77.2:17.2:5.6. The median cell number per mucosal tissue unit in the IgA, IgM, and IgG class was raised 2.1, 3.8 and 2.9 times, respectively. These increases were statistically significant. Moreover, there was a significant negative correlation between the time to clinical relapse and the number of IgG cells per tissue unit after challenge. This finding indicates that locally produced antibodies of the IgG class are especially involved in the pathogenesis of CD.\n",
      "\n",
      "Bad id: 29785091 Error code: 124\n",
      "Skipped record: 33695054|Dr. Piggot's Valedictory.\n",
      "\n",
      "Bad id: 16055298 Error code: 124\n",
      "Skipped record: 4912434|Response of the limb vascular bed in man to intrabrachial arterial infusions of hypertonic dextrose or hypertonic sodium chloride solutions.\n",
      "\n",
      "Bad id: 6367599 Error code: 124\n",
      "Skipped record: 26434548|Procalcitonin and community-acquired pneumonia (CAP) in children. The role of procalcitonin (PCT) as a biomarker for sepsis in adults is well documented, while its role in infections affecting neonatal children remains controversial. Among these infections, Community-Acquired pneumonia (CAP) has been studied extensively, because it's the second cause of death in children in developing countries, and one of the most frequent causes of hospitalization in industrialized countries. The PubMed database and the Cochrane Library were used to search for the following keywords: CAP, procalcitonin, and children. Thirteen articles were studied to determine the role of PCT in CAP management, specifically its usefulness for distinguishing pneumococcal infections from viral and unknown infections, for predicting severity and the correct antibiotic treatment. This paper focuses on the studies performed to identify the best inflammatory biomarker for CAP management. Although there is an increase in studies confirming the usefulness of PCT in CAP management in children, further studies are needed to have better understanding of its role for pediatric CAP management.\n",
      "\n",
      "Bad id: 33454046 Error code: 1\n",
      "Skipped record: 17104485|A Note on the Sternal Gland of Myrmecobius.\n",
      "\n",
      "Bad id: 17119059 Error code: 124\n",
      "Skipped record: 25697140|Association of TNF-alpha-(308(GG)), IL-10(-819(TT)), IL-10(-1082(GG)) and IL-1R1(+1970(CC)) genotypes with the susceptibility and progression of leprosy in North Indian population. Leprosy is an infectious disease caused by M. leprae. We analyzed 48 cytokine polymorphisms in 13 (pro as well as anti-inflammatory) cytokine genes using PCR-SSP assay in 102 leprosy patients and 120 healthy controls with intent to find out a link between cytokine polymorphisms and disease susceptibility. TNF-alpha (-308) GG, IL-10 (-819) TT, IL-10 (-1082) GG and IL1R (+1970) CC genotypes are found to be predominant (p=0.01, p=0.02, p=0.0001 and p=0.001, respectively) in both tuberculoid as well as lepromatous leprosy patients. This observation suggests these genotypes as play the central role(s) in the progression of disease. CBA assay demonstrates the varied serum concentration of these cytokines with respect to their genotypes. The above genotypes appeared as high producer genotypes in our study. Even in presence of high produce genotypes, TNF-alpha level are found to be affected/masked by the presence of IL-10 in leprosy patients. Expressional masking of TNF-alpha is associated with the expression of IL-10 in these patients. This is one the negative impact of SNP-SNP interaction in leprosy patients. Therefore, we can conclude that cytokine gene polymorphisms determine the predisposition to the leprosy progression.\n",
      "\n",
      "Bad id: 31849537 Error code: 124\n",
      "Skipped record: 25348184|Immune response of thalassemia major patients in Indonesia with and without splenectomy. to describe non-spesific and specific immune response profile in Indonesian thalassemia major with and without splenectomy. this study was held at Thalassaemia Centre, Cipto Mangunkusumo Hospital Jakarta on September 2013-February 2014. A comparative cross sectional study was conducted in healthy, thalassemia major aged more than 12 year and seronegative HIV. They were matched in age and sex for splenectomised and non-splenectomised groups, analysing the non-spesific immune response (neutrophil count and phagocytosis) and specific immune response (count and function of cellular immunity). Infection episodes were also analized as immune response in vivo parameter. splenectomised thalassemia major showed increased neutrophil count but significantly decreased non-spesific immune response (neutrophil phagocytosis). Spesific immune response of splenectomised group presented significantly higher absolute lymphocyte, lymphocyte T, CD4+ and CD8+ counts compared to non-splenectomised thalassemia major (p<0.05). Ratio CD4+/CD8+ were similar in these groups. Serum marker of activated cellular imunity function (IL-2 and TNF-) were similar among two groups. Mild infection episodes on splenectomised and non-splenectomised group were 2.02 (ranged 0 to 12) times and 0.81 (ranged 0 to 8) times (p=0.004), respectively. Severe infection on splenectomised group were sepsis for 2 weeks and diarrhea for 1 week, whereas on non-splenectomised group was typhoid fever for 4 days. there were significant differences on immune response among thalassemia major patients. Splenectomised thalassemia major showed a greater degree of susceptibility to infections than non-splenectomised thalassemia major.\n",
      "\n",
      "Bad id: 29669072 Error code: 124\n",
      "Skipped record: 17212217|Measuring community benefits. Report finds tax-exempts edge out for-profits on giving.\n",
      "\n",
      "Bad id: 11470218 Error code: 124\n",
      "Skipped record: 16295929|Cross-sectional anatomy and comparative ultrasonography of the equine medial femorotibial joint and its related structures. Injuries of the equine stifle are frequent causes of hindlimb lameness. Ultrasonography is useful for the diagnosis of many soft tissue lesions but, until recently, its application to the equine stifle has been limited to a description of normal and abnormal structures. A comparative study using gross anatomical sections to identify all structures visible on ultrasonographic images of the equine stifle has not previously been reported. To provide a comprehensive comparative cross-sectional atlas of the normal equine medial femorotibial (MFT) joint and its related structures using ultrasonography. The stifle joints of 15 cadaver limbs were examined ultrasonographically using a systematic approach. Ten different scanning planes were defined. The lateral and medial femorotibial and the femoropatellar joints were injected with pigments of different colours. Each leg was frozen (10 in extension and 5 in flexion) and cut into slices corresponding to the different scanning planes. According to the different ultrasonographic reference images, 10 representative anatomical images were selected and digitised. All bony and soft tissue structures were identified on the anatomical sections and subsequently located on the corresponding ultrasonographic images, except the caudal meniscotibial ligaments. Visualisation of the cruciate ligaments was a challenge due to their position and oblique orientation. Ultrasonography is a very useful technique for imaging both soft tissue and bony structures of the MFT joint and its related structures, although a protocol is required to perform a systematic and standardised ultrasonographic examination. Good anatomical knowledge is mandatory for identification of the different structures. This study should contribute to 1) knowledge of the ultrasonographic anatomy of the equine MFT joint and its related structures, 2) use of a protocol for a standardised ultrasonographic examination and 3) the ability to recognise abnormal structures.\n",
      "\n",
      "Bad id: 6716436 Error code: 124\n",
      "Skipped record: 26597447|Type II toxin: antitoxin systems. More than small selfish entities? Toxin-antitoxin (TA) modules regulate metabolism and viability of bacteria and archaea. In type II TA systems these functions are generally thought to be performed by two small proteins. However, evidence is increasing that the toxins are much more diverse and can form multi-domain proteins. Recently, we published a novel type II TA system in which toxin and antitoxin are covalently linked into a single polypeptide chain. In this review we summarize the current knowledge on these elongated toxin homologs and provide perspectives for future study.\n",
      "\n"
     ]
    }
   ],
   "source": [
    "df.to_pickle('dataset_df.pkl')"
   ]
  },
  {
   "cell_type": "code",
   "execution_count": 4,
   "id": "7063c964-e3be-478c-8a1e-a356d6b00623",
   "metadata": {},
   "outputs": [],
   "source": [
    "df = pd.read_pickle('dataset_df.pkl')"
   ]
  },
  {
   "cell_type": "markdown",
   "id": "555b74a6-ff01-45bc-85fb-b6c5d8c5f373",
   "metadata": {},
   "source": [
    "### Embed pairs with bert-base-uncased"
   ]
  },
  {
   "cell_type": "code",
   "execution_count": 5,
   "id": "a237f92c-be43-4e77-9685-eb5301f554ef",
   "metadata": {},
   "outputs": [],
   "source": [
    "# Load model directly\n",
    "from transformers import AutoModel, AutoTokenizer\n",
    "tokenizer = AutoTokenizer.from_pretrained(\"google-bert/bert-base-uncased\")\n",
    "model = AutoModel.from_pretrained(\"google-bert/bert-base-uncased\")\n",
    "\n"
   ]
  },
  {
   "cell_type": "code",
   "execution_count": 6,
   "id": "dd29fc49-8bb3-4e59-94d8-f04cc4faf66f",
   "metadata": {},
   "outputs": [
    {
     "data": {
      "text/plain": [
       "('Degenerative disorder', 'Heart')"
      ]
     },
     "execution_count": 6,
     "metadata": {},
     "output_type": "execute_result"
    }
   ],
   "source": [
    "test_pair = df.iloc[0]['sr_pairs'][0]\n",
    "test_pair"
   ]
  },
  {
   "cell_type": "code",
   "execution_count": 7,
   "id": "22d557e3-9e72-45e9-83c0-66aa6b48799c",
   "metadata": {},
   "outputs": [],
   "source": [
    "def embed(row):\n",
    "    pairs = [pair for pair in row]\n",
    "    embeds = []\n",
    "    \n",
    "    for pair in pairs:\n",
    "        t = []\n",
    "        for term in pair:\n",
    "            encoded_dict = tokenizer.encode_plus(\n",
    "                term,\n",
    "                add_special_tokens=True,\n",
    "                max_length=128,\n",
    "                padding='max_length',\n",
    "                truncation=True,\n",
    "                return_attention_mask=True,\n",
    "                return_tensors='pt',\n",
    "            )\n",
    "            with torch.no_grad():\n",
    "                outputs = model(\n",
    "                    input_ids=encoded_dict['input_ids'],\n",
    "                    attention_mask=encoded_dict['attention_mask']\n",
    "                )\n",
    "            # Extract CLS token embedding\n",
    "            cls_embeddings = outputs.last_hidden_state[:, 0, :].squeeze().numpy()\n",
    "            t.append(cls_embeddings)\n",
    "        embeds.append(tuple(t))\n",
    "\n",
    "    return embeds"
   ]
  },
  {
   "cell_type": "code",
   "execution_count": 8,
   "id": "73f16ea9-4e64-4eb3-8a95-149c4f10eda0",
   "metadata": {},
   "outputs": [
    {
     "name": "stderr",
     "output_type": "stream",
     "text": [
      "100%|███████████████████████████████████████| 1000/1000 [41:43<00:00,  2.50s/it]\n"
     ]
    },
    {
     "data": {
      "text/html": [
       "<div>\n",
       "<style scoped>\n",
       "    .dataframe tbody tr th:only-of-type {\n",
       "        vertical-align: middle;\n",
       "    }\n",
       "\n",
       "    .dataframe tbody tr th {\n",
       "        vertical-align: top;\n",
       "    }\n",
       "\n",
       "    .dataframe thead th {\n",
       "        text-align: right;\n",
       "    }\n",
       "</style>\n",
       "<table border=\"1\" class=\"dataframe\">\n",
       "  <thead>\n",
       "    <tr style=\"text-align: right;\">\n",
       "      <th></th>\n",
       "      <th>pmid</th>\n",
       "      <th>pmid_text</th>\n",
       "      <th>pmid_embeddings</th>\n",
       "      <th>sr_preds</th>\n",
       "      <th>sr_pairs</th>\n",
       "      <th>sr_pairs_embeddings</th>\n",
       "    </tr>\n",
       "  </thead>\n",
       "  <tbody>\n",
       "    <tr>\n",
       "      <th>0</th>\n",
       "      <td>23622459</td>\n",
       "      <td>Mitral annulus calcification and sudden death....</td>\n",
       "      <td>[-0.746443, 0.33572936, -0.23443037, -0.280785...</td>\n",
       "      <td>[[], [{'subj_id': 'C0018787', 'subj_name': 'He...</td>\n",
       "      <td>[(Degenerative disorder, Heart), (Degenerative...</td>\n",
       "      <td>[([-0.34357956, 0.12238737, -0.69660324, -0.57...</td>\n",
       "    </tr>\n",
       "  </tbody>\n",
       "</table>\n",
       "</div>"
      ],
      "text/plain": [
       "       pmid                                          pmid_text  \\\n",
       "0  23622459  Mitral annulus calcification and sudden death....   \n",
       "\n",
       "                                     pmid_embeddings  \\\n",
       "0  [-0.746443, 0.33572936, -0.23443037, -0.280785...   \n",
       "\n",
       "                                            sr_preds  \\\n",
       "0  [[], [{'subj_id': 'C0018787', 'subj_name': 'He...   \n",
       "\n",
       "                                            sr_pairs  \\\n",
       "0  [(Degenerative disorder, Heart), (Degenerative...   \n",
       "\n",
       "                                 sr_pairs_embeddings  \n",
       "0  [([-0.34357956, 0.12238737, -0.69660324, -0.57...  "
      ]
     },
     "execution_count": 8,
     "metadata": {},
     "output_type": "execute_result"
    }
   ],
   "source": [
    "df['sr_pairs_embeddings'] = df['sr_pairs'].progress_apply(embed)\n",
    "df.head(1)"
   ]
  },
  {
   "cell_type": "code",
   "execution_count": 9,
   "id": "39cd1b35-8b93-40e1-9fed-03086f4a5ec6",
   "metadata": {},
   "outputs": [],
   "source": [
    "df.to_pickle('dataset_df.pkl')"
   ]
  },
  {
   "cell_type": "code",
   "execution_count": 3,
   "id": "cf293ad4-87ae-48a7-a672-f0671facf4aa",
   "metadata": {},
   "outputs": [],
   "source": [
    "df = pd.read_pickle('dataset_df.pkl')"
   ]
  },
  {
   "cell_type": "markdown",
   "id": "934d6063-b382-4b16-900d-401073299a68",
   "metadata": {},
   "source": [
    "### Generate negatives"
   ]
  },
  {
   "cell_type": "code",
   "execution_count": 23,
   "id": "0bcf7290-c513-49be-b99e-e67f506905a8",
   "metadata": {},
   "outputs": [
    {
     "name": "stdout",
     "output_type": "stream",
     "text": [
      "Bone Transplantation\n",
      "Resuscitation procedure\n"
     ]
    }
   ],
   "source": [
    "random.seed(42)\n",
    "unique_rows = df.sample(n=2, replace=False, random_state=42)\n",
    "for row in unique_rows.itertuples():\n",
    "    rand_pair = random.choice(row.sr_pairs)\n",
    "    rand_term = random.choice(rand_pair)\n",
    "    print(rand_term)"
   ]
  },
  {
   "cell_type": "code",
   "execution_count": 31,
   "id": "b478f07d-d61e-4e8e-bd95-7441a2672c92",
   "metadata": {},
   "outputs": [],
   "source": [
    "def generate_negatives(row, df):\n",
    "    negative_pairs = []\n",
    "    negative_embeddings = []\n",
    "\n",
    "    for subj, obj in row['sr_pairs']:\n",
    "        unique_rows = df[df['pmid'] != row['pmid']].sample(n=2, replace=False, random_state=42)\n",
    "\n",
    "        for random_row in unique_rows.itertuples():\n",
    "            if not random_row.sr_pairs or not isinstance(random_row.sr_pairs, list):\n",
    "                continue\n",
    "\n",
    "            rand_pair = random.choice(random_row.sr_pairs)\n",
    "            if not isinstance(rand_pair, tuple) or len(rand_pair) != 2:\n",
    "                continue \n",
    "                \n",
    "            rand_term = random.choice(rand_pair)\n",
    "\n",
    "            negative_pair = (subj, rand_term)\n",
    "            negative_pairs.append(negative_pair)\n",
    "\n",
    "            subj_embedding = row['sr_pairs_embeddings'][row['sr_pairs'].index((subj, obj))][0]\n",
    "            rand_term_index = random_row.sr_pairs.index(rand_pair)\n",
    "            rand_term_position = rand_pair.index(rand_term)\n",
    "            rand_term_embedding = random_row.sr_pairs_embeddings[rand_term_index][rand_term_position]\n",
    "            negative_embeddings.append((subj_embedding, rand_term_embedding))\n",
    "            \n",
    "    return negative_pairs, negative_embeddings\n",
    "    \n",
    "        "
   ]
  },
  {
   "cell_type": "code",
   "execution_count": 32,
   "id": "57646195-6289-4c99-8500-47241d5c1fcc",
   "metadata": {},
   "outputs": [],
   "source": [
    "df['negative_sr_pairs'], df['negative_sr_pairs_embeddings'] = zip(*df.apply(lambda row: generate_negatives(row, df), axis=1))\n"
   ]
  },
  {
   "cell_type": "code",
   "execution_count": 34,
   "id": "e95a356a-0cfd-4717-8f5c-142747966cba",
   "metadata": {},
   "outputs": [
    {
     "data": {
      "text/plain": [
       "(3250, 3250)"
      ]
     },
     "execution_count": 34,
     "metadata": {},
     "output_type": "execute_result"
    }
   ],
   "source": [
    "all_pos = 0\n",
    "all_neg = 0\n",
    "for idx, row in df.iterrows():\n",
    "    all_pos += len(row['sr_pairs'])\n",
    "    all_neg += len(row['negative_sr_pairs'])\n",
    "\n",
    "all_pos, all_neg"
   ]
  },
  {
   "cell_type": "code",
   "execution_count": 35,
   "id": "1b01dc4e-17b3-4a32-9388-3e662fbceb94",
   "metadata": {},
   "outputs": [],
   "source": [
    "df.to_pickle('dataset_df.pkl')"
   ]
  },
  {
   "cell_type": "code",
   "execution_count": 37,
   "id": "ca2284d5-323a-4096-9aaf-45bba44b2493",
   "metadata": {},
   "outputs": [
    {
     "data": {
      "text/html": [
       "<div>\n",
       "<style scoped>\n",
       "    .dataframe tbody tr th:only-of-type {\n",
       "        vertical-align: middle;\n",
       "    }\n",
       "\n",
       "    .dataframe tbody tr th {\n",
       "        vertical-align: top;\n",
       "    }\n",
       "\n",
       "    .dataframe thead th {\n",
       "        text-align: right;\n",
       "    }\n",
       "</style>\n",
       "<table border=\"1\" class=\"dataframe\">\n",
       "  <thead>\n",
       "    <tr style=\"text-align: right;\">\n",
       "      <th></th>\n",
       "      <th>pmid</th>\n",
       "      <th>pmid_text</th>\n",
       "      <th>pmid_embeddings</th>\n",
       "      <th>sr_preds</th>\n",
       "      <th>sr_pairs</th>\n",
       "      <th>sr_pairs_embeddings</th>\n",
       "      <th>negative_sr_pairs</th>\n",
       "      <th>negative_sr_pairs_embeddings</th>\n",
       "    </tr>\n",
       "  </thead>\n",
       "  <tbody>\n",
       "    <tr>\n",
       "      <th>0</th>\n",
       "      <td>23622459</td>\n",
       "      <td>Mitral annulus calcification and sudden death....</td>\n",
       "      <td>[-0.746443, 0.33572936, -0.23443037, -0.280785...</td>\n",
       "      <td>[[], [{'subj_id': 'C0018787', 'subj_name': 'He...</td>\n",
       "      <td>[(Degenerative disorder, Heart), (Degenerative...</td>\n",
       "      <td>[([-0.34357956, 0.12238737, -0.69660324, -0.57...</td>\n",
       "      <td>[(Degenerative disorder, Blood), (Degenerative...</td>\n",
       "      <td>[([-0.34357956, 0.12238737, -0.69660324, -0.57...</td>\n",
       "    </tr>\n",
       "    <tr>\n",
       "      <th>1</th>\n",
       "      <td>35184714</td>\n",
       "      <td>Sociodemographic and Diabetes-Related Risk Fac...</td>\n",
       "      <td>[0.00021144087, -0.38737687, -0.26618272, 0.10...</td>\n",
       "      <td>[[], [{'subj_id': 'C0241863', 'subj_name': 'Di...</td>\n",
       "      <td>[(Diabetic, Persons), (Diabetic, Intervention ...</td>\n",
       "      <td>[([-0.94334424, -0.33993545, -0.54449755, -0.3...</td>\n",
       "      <td>[(Diabetic, Structure of renal vein), (Diabeti...</td>\n",
       "      <td>[([-0.94334424, -0.33993545, -0.54449755, -0.3...</td>\n",
       "    </tr>\n",
       "    <tr>\n",
       "      <th>2</th>\n",
       "      <td>33583333</td>\n",
       "      <td>Multispectral and molecular modeling investiga...</td>\n",
       "      <td>[-0.5143313, -0.6871651, 0.46939507, 0.2673885...</td>\n",
       "      <td>[[], [{'subj_id': 'C0036774', 'subj_name': 'se...</td>\n",
       "      <td>[(Homo sapiens, serum albumin, bovine), (clopi...</td>\n",
       "      <td>[([-0.69680464, -0.12840356, -0.6038127, 0.246...</td>\n",
       "      <td>[(Homo sapiens, Patients), (clopidol, Patients...</td>\n",
       "      <td>[([-0.69680464, -0.12840356, -0.6038127, 0.246...</td>\n",
       "    </tr>\n",
       "    <tr>\n",
       "      <th>3</th>\n",
       "      <td>12958355</td>\n",
       "      <td>Seasonal dynamics of previously unknown fungal...</td>\n",
       "      <td>[0.0639993, -0.31387797, 0.05587074, -0.371296...</td>\n",
       "      <td>[[], [], [], [], [], []]</td>\n",
       "      <td>[]</td>\n",
       "      <td>[]</td>\n",
       "      <td>[]</td>\n",
       "      <td>[]</td>\n",
       "    </tr>\n",
       "    <tr>\n",
       "      <th>4</th>\n",
       "      <td>23530622</td>\n",
       "      <td>pH-responsive assembly of gold nanoparticles a...</td>\n",
       "      <td>[-0.18710473, -0.55765355, -0.4391491, 0.46652...</td>\n",
       "      <td>[[], [], [], [], [], [], [], [], [], [{'subj_i...</td>\n",
       "      <td>[(Phagocytes, Tumor cells, malignant)]</td>\n",
       "      <td>[([-0.24778794, 0.6601154, -0.24169184, 0.0484...</td>\n",
       "      <td>[(Phagocytes, Gene Mutation)]</td>\n",
       "      <td>[([-0.24778794, 0.6601154, -0.24169184, 0.0484...</td>\n",
       "    </tr>\n",
       "  </tbody>\n",
       "</table>\n",
       "</div>"
      ],
      "text/plain": [
       "       pmid                                          pmid_text  \\\n",
       "0  23622459  Mitral annulus calcification and sudden death....   \n",
       "1  35184714  Sociodemographic and Diabetes-Related Risk Fac...   \n",
       "2  33583333  Multispectral and molecular modeling investiga...   \n",
       "3  12958355  Seasonal dynamics of previously unknown fungal...   \n",
       "4  23530622  pH-responsive assembly of gold nanoparticles a...   \n",
       "\n",
       "                                     pmid_embeddings  \\\n",
       "0  [-0.746443, 0.33572936, -0.23443037, -0.280785...   \n",
       "1  [0.00021144087, -0.38737687, -0.26618272, 0.10...   \n",
       "2  [-0.5143313, -0.6871651, 0.46939507, 0.2673885...   \n",
       "3  [0.0639993, -0.31387797, 0.05587074, -0.371296...   \n",
       "4  [-0.18710473, -0.55765355, -0.4391491, 0.46652...   \n",
       "\n",
       "                                            sr_preds  \\\n",
       "0  [[], [{'subj_id': 'C0018787', 'subj_name': 'He...   \n",
       "1  [[], [{'subj_id': 'C0241863', 'subj_name': 'Di...   \n",
       "2  [[], [{'subj_id': 'C0036774', 'subj_name': 'se...   \n",
       "3                           [[], [], [], [], [], []]   \n",
       "4  [[], [], [], [], [], [], [], [], [], [{'subj_i...   \n",
       "\n",
       "                                            sr_pairs  \\\n",
       "0  [(Degenerative disorder, Heart), (Degenerative...   \n",
       "1  [(Diabetic, Persons), (Diabetic, Intervention ...   \n",
       "2  [(Homo sapiens, serum albumin, bovine), (clopi...   \n",
       "3                                                 []   \n",
       "4             [(Phagocytes, Tumor cells, malignant)]   \n",
       "\n",
       "                                 sr_pairs_embeddings  \\\n",
       "0  [([-0.34357956, 0.12238737, -0.69660324, -0.57...   \n",
       "1  [([-0.94334424, -0.33993545, -0.54449755, -0.3...   \n",
       "2  [([-0.69680464, -0.12840356, -0.6038127, 0.246...   \n",
       "3                                                 []   \n",
       "4  [([-0.24778794, 0.6601154, -0.24169184, 0.0484...   \n",
       "\n",
       "                                   negative_sr_pairs  \\\n",
       "0  [(Degenerative disorder, Blood), (Degenerative...   \n",
       "1  [(Diabetic, Structure of renal vein), (Diabeti...   \n",
       "2  [(Homo sapiens, Patients), (clopidol, Patients...   \n",
       "3                                                 []   \n",
       "4                      [(Phagocytes, Gene Mutation)]   \n",
       "\n",
       "                        negative_sr_pairs_embeddings  \n",
       "0  [([-0.34357956, 0.12238737, -0.69660324, -0.57...  \n",
       "1  [([-0.94334424, -0.33993545, -0.54449755, -0.3...  \n",
       "2  [([-0.69680464, -0.12840356, -0.6038127, 0.246...  \n",
       "3                                                 []  \n",
       "4  [([-0.24778794, 0.6601154, -0.24169184, 0.0484...  "
      ]
     },
     "execution_count": 37,
     "metadata": {},
     "output_type": "execute_result"
    }
   ],
   "source": [
    "df = pd.read_pickle('dataset_df.pkl')\n",
    "df.head()"
   ]
  },
  {
   "cell_type": "code",
   "execution_count": 40,
   "id": "c065a110-01e2-4896-a61c-856d4c453473",
   "metadata": {},
   "outputs": [
    {
     "data": {
      "text/html": [
       "<div>\n",
       "<style scoped>\n",
       "    .dataframe tbody tr th:only-of-type {\n",
       "        vertical-align: middle;\n",
       "    }\n",
       "\n",
       "    .dataframe tbody tr th {\n",
       "        vertical-align: top;\n",
       "    }\n",
       "\n",
       "    .dataframe thead th {\n",
       "        text-align: right;\n",
       "    }\n",
       "</style>\n",
       "<table border=\"1\" class=\"dataframe\">\n",
       "  <thead>\n",
       "    <tr style=\"text-align: right;\">\n",
       "      <th></th>\n",
       "      <th>pmid</th>\n",
       "      <th>pmid_text</th>\n",
       "      <th>pmid_embeddings</th>\n",
       "      <th>sr_preds</th>\n",
       "      <th>sr_pairs</th>\n",
       "      <th>sr_pairs_embeddings</th>\n",
       "      <th>negative_sr_pairs</th>\n",
       "      <th>negative_sr_pairs_embeddings</th>\n",
       "    </tr>\n",
       "  </thead>\n",
       "  <tbody>\n",
       "    <tr>\n",
       "      <th>0</th>\n",
       "      <td>23622459</td>\n",
       "      <td>Mitral annulus calcification and sudden death....</td>\n",
       "      <td>[-0.746443, 0.33572936, -0.23443037, -0.280785...</td>\n",
       "      <td>[[], [{'subj_id': 'C0018787', 'subj_name': 'He...</td>\n",
       "      <td>[(Degenerative disorder, Heart), (Degenerative...</td>\n",
       "      <td>[([-0.34357956, 0.12238737, -0.69660324, -0.57...</td>\n",
       "      <td>[(Degenerative disorder, Blood), (Degenerative...</td>\n",
       "      <td>[([-0.34357956, 0.12238737, -0.69660324, -0.57...</td>\n",
       "    </tr>\n",
       "    <tr>\n",
       "      <th>1</th>\n",
       "      <td>35184714</td>\n",
       "      <td>Sociodemographic and Diabetes-Related Risk Fac...</td>\n",
       "      <td>[0.00021144087, -0.38737687, -0.26618272, 0.10...</td>\n",
       "      <td>[[], [{'subj_id': 'C0241863', 'subj_name': 'Di...</td>\n",
       "      <td>[(Diabetic, Persons), (Diabetic, Intervention ...</td>\n",
       "      <td>[([-0.94334424, -0.33993545, -0.54449755, -0.3...</td>\n",
       "      <td>[(Diabetic, Structure of renal vein), (Diabeti...</td>\n",
       "      <td>[([-0.94334424, -0.33993545, -0.54449755, -0.3...</td>\n",
       "    </tr>\n",
       "    <tr>\n",
       "      <th>2</th>\n",
       "      <td>33583333</td>\n",
       "      <td>Multispectral and molecular modeling investiga...</td>\n",
       "      <td>[-0.5143313, -0.6871651, 0.46939507, 0.2673885...</td>\n",
       "      <td>[[], [{'subj_id': 'C0036774', 'subj_name': 'se...</td>\n",
       "      <td>[(Homo sapiens, serum albumin, bovine), (clopi...</td>\n",
       "      <td>[([-0.69680464, -0.12840356, -0.6038127, 0.246...</td>\n",
       "      <td>[(Homo sapiens, Patients), (clopidol, Patients...</td>\n",
       "      <td>[([-0.69680464, -0.12840356, -0.6038127, 0.246...</td>\n",
       "    </tr>\n",
       "    <tr>\n",
       "      <th>4</th>\n",
       "      <td>23530622</td>\n",
       "      <td>pH-responsive assembly of gold nanoparticles a...</td>\n",
       "      <td>[-0.18710473, -0.55765355, -0.4391491, 0.46652...</td>\n",
       "      <td>[[], [], [], [], [], [], [], [], [], [{'subj_i...</td>\n",
       "      <td>[(Phagocytes, Tumor cells, malignant)]</td>\n",
       "      <td>[([-0.24778794, 0.6601154, -0.24169184, 0.0484...</td>\n",
       "      <td>[(Phagocytes, Gene Mutation)]</td>\n",
       "      <td>[([-0.24778794, 0.6601154, -0.24169184, 0.0484...</td>\n",
       "    </tr>\n",
       "    <tr>\n",
       "      <th>5</th>\n",
       "      <td>27034521</td>\n",
       "      <td>Assessment of universal health coverage for ad...</td>\n",
       "      <td>[-0.008684545, -0.1903507, 0.29093307, -0.0698...</td>\n",
       "      <td>[[], [], [{'subj_id': 'C0043237', 'subj_name':...</td>\n",
       "      <td>[(Study, World Health Organization), (Outpatie...</td>\n",
       "      <td>[([-0.0928604, 0.39379418, -0.14742967, -0.051...</td>\n",
       "      <td>[(Study, Patients), (Outpatients, Structure of...</td>\n",
       "      <td>[([-0.0928604, 0.39379418, -0.14742967, -0.051...</td>\n",
       "    </tr>\n",
       "  </tbody>\n",
       "</table>\n",
       "</div>"
      ],
      "text/plain": [
       "       pmid                                          pmid_text  \\\n",
       "0  23622459  Mitral annulus calcification and sudden death....   \n",
       "1  35184714  Sociodemographic and Diabetes-Related Risk Fac...   \n",
       "2  33583333  Multispectral and molecular modeling investiga...   \n",
       "4  23530622  pH-responsive assembly of gold nanoparticles a...   \n",
       "5  27034521  Assessment of universal health coverage for ad...   \n",
       "\n",
       "                                     pmid_embeddings  \\\n",
       "0  [-0.746443, 0.33572936, -0.23443037, -0.280785...   \n",
       "1  [0.00021144087, -0.38737687, -0.26618272, 0.10...   \n",
       "2  [-0.5143313, -0.6871651, 0.46939507, 0.2673885...   \n",
       "4  [-0.18710473, -0.55765355, -0.4391491, 0.46652...   \n",
       "5  [-0.008684545, -0.1903507, 0.29093307, -0.0698...   \n",
       "\n",
       "                                            sr_preds  \\\n",
       "0  [[], [{'subj_id': 'C0018787', 'subj_name': 'He...   \n",
       "1  [[], [{'subj_id': 'C0241863', 'subj_name': 'Di...   \n",
       "2  [[], [{'subj_id': 'C0036774', 'subj_name': 'se...   \n",
       "4  [[], [], [], [], [], [], [], [], [], [{'subj_i...   \n",
       "5  [[], [], [{'subj_id': 'C0043237', 'subj_name':...   \n",
       "\n",
       "                                            sr_pairs  \\\n",
       "0  [(Degenerative disorder, Heart), (Degenerative...   \n",
       "1  [(Diabetic, Persons), (Diabetic, Intervention ...   \n",
       "2  [(Homo sapiens, serum albumin, bovine), (clopi...   \n",
       "4             [(Phagocytes, Tumor cells, malignant)]   \n",
       "5  [(Study, World Health Organization), (Outpatie...   \n",
       "\n",
       "                                 sr_pairs_embeddings  \\\n",
       "0  [([-0.34357956, 0.12238737, -0.69660324, -0.57...   \n",
       "1  [([-0.94334424, -0.33993545, -0.54449755, -0.3...   \n",
       "2  [([-0.69680464, -0.12840356, -0.6038127, 0.246...   \n",
       "4  [([-0.24778794, 0.6601154, -0.24169184, 0.0484...   \n",
       "5  [([-0.0928604, 0.39379418, -0.14742967, -0.051...   \n",
       "\n",
       "                                   negative_sr_pairs  \\\n",
       "0  [(Degenerative disorder, Blood), (Degenerative...   \n",
       "1  [(Diabetic, Structure of renal vein), (Diabeti...   \n",
       "2  [(Homo sapiens, Patients), (clopidol, Patients...   \n",
       "4                      [(Phagocytes, Gene Mutation)]   \n",
       "5  [(Study, Patients), (Outpatients, Structure of...   \n",
       "\n",
       "                        negative_sr_pairs_embeddings  \n",
       "0  [([-0.34357956, 0.12238737, -0.69660324, -0.57...  \n",
       "1  [([-0.94334424, -0.33993545, -0.54449755, -0.3...  \n",
       "2  [([-0.69680464, -0.12840356, -0.6038127, 0.246...  \n",
       "4  [([-0.24778794, 0.6601154, -0.24169184, 0.0484...  \n",
       "5  [([-0.0928604, 0.39379418, -0.14742967, -0.051...  "
      ]
     },
     "execution_count": 40,
     "metadata": {},
     "output_type": "execute_result"
    }
   ],
   "source": [
    "df = df[df['sr_pairs'].apply(lambda x: isinstance(x, list) and len(x) > 0)]\n",
    "df.head()"
   ]
  },
  {
   "cell_type": "code",
   "execution_count": 4,
   "id": "95db90c3-f063-42de-a5fa-922e97e3705b",
   "metadata": {},
   "outputs": [
    {
     "data": {
      "text/plain": [
       "([('Degenerative disorder', 'Heart'),\n",
       "  ('Degenerative disorder', 'Old age'),\n",
       "  ('Sudden death', 'Valvular stenosis'),\n",
       "  ('Arteriosclerosis', 'Woman'),\n",
       "  ('Hypertensive disease', 'Woman'),\n",
       "  ('Calcinosis', 'Structure of anulus fibrosus of mitral orifice')],\n",
       " [('Degenerative disorder', 'Blood'),\n",
       "  ('Degenerative disorder', 'Structure of renal vein'),\n",
       "  ('Sudden death', 'Patients'),\n",
       "  ('Arteriosclerosis', 'Patients'),\n",
       "  ('Hypertensive disease', 'Life Expectancy Less than Ten Years'),\n",
       "  ('Calcinosis', 'Blood')])"
      ]
     },
     "execution_count": 4,
     "metadata": {},
     "output_type": "execute_result"
    }
   ],
   "source": [
    "df = pd.read_pickle('data/1000_pmid_dataset.pkl')\n",
    "df.iloc[0]['sr_pairs'], df.iloc[0]['negative_sr_pairs']"
   ]
  },
  {
   "cell_type": "code",
   "execution_count": null,
   "id": "50fb364b-e986-4c09-9a05-e3ca28bf0c94",
   "metadata": {},
   "outputs": [],
   "source": []
  }
 ],
 "metadata": {
  "kernelspec": {
   "display_name": "Python 3 (ipykernel)",
   "language": "python",
   "name": "python3"
  },
  "language_info": {
   "codemirror_mode": {
    "name": "ipython",
    "version": 3
   },
   "file_extension": ".py",
   "mimetype": "text/x-python",
   "name": "python",
   "nbconvert_exporter": "python",
   "pygments_lexer": "ipython3",
   "version": "3.9.21"
  }
 },
 "nbformat": 4,
 "nbformat_minor": 5
}
