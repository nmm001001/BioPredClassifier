{
 "cells": [
  {
   "cell_type": "code",
   "execution_count": 32,
   "id": "48bd9eda-eee7-440b-b158-048b634293bd",
   "metadata": {},
   "outputs": [],
   "source": [
    "import torch\n",
    "import torch.nn as nn\n",
    "import torch.optim as optim\n",
    "from torch.utils.data import Dataset, DataLoader\n",
    "import numpy as np\n",
    "import pandas as pd\n",
    "from sklearn.model_selection import train_test_split\n",
    "from sklearn.metrics import roc_auc_score, average_precision_score\n",
    "import torch.nn.functional as F"
   ]
  },
  {
   "cell_type": "code",
   "execution_count": 65,
   "id": "81fd9b7b-0f22-4452-a8ec-8569aa7cb191",
   "metadata": {},
   "outputs": [
    {
     "data": {
      "text/html": [
       "<div>\n",
       "<style scoped>\n",
       "    .dataframe tbody tr th:only-of-type {\n",
       "        vertical-align: middle;\n",
       "    }\n",
       "\n",
       "    .dataframe tbody tr th {\n",
       "        vertical-align: top;\n",
       "    }\n",
       "\n",
       "    .dataframe thead th {\n",
       "        text-align: right;\n",
       "    }\n",
       "</style>\n",
       "<table border=\"1\" class=\"dataframe\">\n",
       "  <thead>\n",
       "    <tr style=\"text-align: right;\">\n",
       "      <th></th>\n",
       "      <th>pmid</th>\n",
       "      <th>pmid_text</th>\n",
       "      <th>pmid_embeddings</th>\n",
       "      <th>sr_preds</th>\n",
       "      <th>sr_pairs</th>\n",
       "      <th>sr_pairs_embeddings</th>\n",
       "      <th>negative_sr_pairs</th>\n",
       "      <th>negative_sr_pairs_embeddings</th>\n",
       "    </tr>\n",
       "  </thead>\n",
       "  <tbody>\n",
       "    <tr>\n",
       "      <th>0</th>\n",
       "      <td>23622459</td>\n",
       "      <td>Mitral annulus calcification and sudden death....</td>\n",
       "      <td>[-0.746443, 0.33572936, -0.23443037, -0.280785...</td>\n",
       "      <td>[[], [{'subj_id': 'C0018787', 'subj_name': 'He...</td>\n",
       "      <td>[(Degenerative disorder, Heart), (Degenerative...</td>\n",
       "      <td>[([-0.34357956, 0.12238737, -0.69660324, -0.57...</td>\n",
       "      <td>[(Degenerative disorder, Blood), (Degenerative...</td>\n",
       "      <td>[([-0.34357956, 0.12238737, -0.69660324, -0.57...</td>\n",
       "    </tr>\n",
       "  </tbody>\n",
       "</table>\n",
       "</div>"
      ],
      "text/plain": [
       "       pmid                                          pmid_text  \\\n",
       "0  23622459  Mitral annulus calcification and sudden death....   \n",
       "\n",
       "                                     pmid_embeddings  \\\n",
       "0  [-0.746443, 0.33572936, -0.23443037, -0.280785...   \n",
       "\n",
       "                                            sr_preds  \\\n",
       "0  [[], [{'subj_id': 'C0018787', 'subj_name': 'He...   \n",
       "\n",
       "                                            sr_pairs  \\\n",
       "0  [(Degenerative disorder, Heart), (Degenerative...   \n",
       "\n",
       "                                 sr_pairs_embeddings  \\\n",
       "0  [([-0.34357956, 0.12238737, -0.69660324, -0.57...   \n",
       "\n",
       "                                   negative_sr_pairs  \\\n",
       "0  [(Degenerative disorder, Blood), (Degenerative...   \n",
       "\n",
       "                        negative_sr_pairs_embeddings  \n",
       "0  [([-0.34357956, 0.12238737, -0.69660324, -0.57...  "
      ]
     },
     "execution_count": 65,
     "metadata": {},
     "output_type": "execute_result"
    }
   ],
   "source": [
    "df = pd.read_pickle('../data/1000_pmid_dataset.pkl')\n",
    "df.head(1)"
   ]
  },
  {
   "cell_type": "code",
   "execution_count": 66,
   "id": "09c95b71-dff1-46dd-b91d-0dd38145e008",
   "metadata": {},
   "outputs": [],
   "source": [
    "def prepare_data(df):\n",
    "    data = []\n",
    "    labels = []\n",
    "    pair_info = []\n",
    "    \n",
    "    # Positive pairs\n",
    "    for pmid_emb, pair_embs in zip(df['pmid_embeddings'], df['sr_pairs_embeddings']):\n",
    "        for pair_emb in pair_embs:\n",
    "            combined_emb = np.concatenate((pmid_emb, pair_emb[0], pair_emb[1]))\n",
    "            data.append(combined_emb)\n",
    "            labels.append(1)\n",
    "    \n",
    "    # Negative pairs\n",
    "    for pmid_emb, neg_pairs_embs in zip(df['pmid_embeddings'], df['negative_sr_pairs_embeddings']):\n",
    "        for neg_pair_emb in neg_pairs_embs:\n",
    "            combined_emb = np.concatenate((pmid_emb, neg_pair_emb[0], neg_pair_emb[1]))\n",
    "            data.append(combined_emb)\n",
    "            labels.append(0)\n",
    "    \n",
    "    return np.array(data), np.array(labels)"
   ]
  },
  {
   "cell_type": "code",
   "execution_count": 67,
   "id": "9b6877cd-27b4-4f85-af11-73a5a38aee03",
   "metadata": {},
   "outputs": [],
   "source": [
    "X, y = prepare_data(df)"
   ]
  },
  {
   "cell_type": "code",
   "execution_count": 68,
   "id": "b7800e94-07c6-469e-aede-765a65550b7e",
   "metadata": {},
   "outputs": [],
   "source": [
    "class RelationDataset(Dataset):\n",
    "    def __init__(self, X, y):\n",
    "        self.X = torch.tensor(X, dtype=torch.float32)\n",
    "        self.y = torch.tensor(y, dtype=torch.float32)\n",
    "\n",
    "    def __len__(self):\n",
    "        return len(self.y)\n",
    "\n",
    "    def __getitem__(self, idx):\n",
    "        return self.X[idx], self.y[idx]"
   ]
  },
  {
   "cell_type": "code",
   "execution_count": 69,
   "id": "c42fb969-ae63-4d34-9ef1-b50d3b9d8ea0",
   "metadata": {},
   "outputs": [],
   "source": [
    "X_train, X_temp, y_train, y_temp = train_test_split(X, y, test_size=0.2, random_state=42)\n",
    "X_val, X_test, y_val, y_test = train_test_split(X_temp, y_temp, test_size=0.5, random_state=42)\n",
    "\n",
    "train_dataset = RelationDataset(X_train, y_train)\n",
    "test_dataset = RelationDataset(X_test, y_test)\n",
    "val_dataset = RelationDataset(X_val, y_val)\n",
    "\n",
    "train_loader = DataLoader(train_dataset, batch_size=32, shuffle=True)\n",
    "test_loader = DataLoader(test_dataset, batch_size=32, shuffle=False)\n",
    "val_loader = DataLoader(val_dataset, batch_size=32, shuffle=False)"
   ]
  },
  {
   "cell_type": "code",
   "execution_count": 70,
   "id": "12a6d636-d906-400f-a2c6-4fc0f0050a7b",
   "metadata": {},
   "outputs": [],
   "source": [
    "class RelationClassifier(nn.Module):\n",
    "    def __init__(self, input_dim):\n",
    "        super(RelationClassifier, self).__init__()\n",
    "        self.model = nn.Sequential(\n",
    "            nn.Linear(input_dim, 128),\n",
    "            nn.ReLU(),\n",
    "            nn.Linear(128, 64),\n",
    "            nn.ReLU(),\n",
    "            nn.Linear(64, 1),\n",
    "            nn.Sigmoid()\n",
    "        )\n",
    "\n",
    "    def forward(self, x):\n",
    "        return self.model(x)"
   ]
  },
  {
   "cell_type": "code",
   "execution_count": 71,
   "id": "288e970c-97cf-4578-9c0e-60bb3ddb220a",
   "metadata": {},
   "outputs": [],
   "source": [
    "input_dim = X.shape[1]\n",
    "model = RelationClassifier(input_dim)"
   ]
  },
  {
   "cell_type": "code",
   "execution_count": 72,
   "id": "46646402-8e4d-4dae-8bd4-b658966aa6f0",
   "metadata": {},
   "outputs": [
    {
     "name": "stdout",
     "output_type": "stream",
     "text": [
      "cuda\n"
     ]
    },
    {
     "data": {
      "text/plain": [
       "RelationClassifier(\n",
       "  (model): Sequential(\n",
       "    (0): Linear(in_features=2304, out_features=128, bias=True)\n",
       "    (1): ReLU()\n",
       "    (2): Linear(in_features=128, out_features=64, bias=True)\n",
       "    (3): ReLU()\n",
       "    (4): Linear(in_features=64, out_features=1, bias=True)\n",
       "    (5): Sigmoid()\n",
       "  )\n",
       ")"
      ]
     },
     "execution_count": 72,
     "metadata": {},
     "output_type": "execute_result"
    }
   ],
   "source": [
    "device = torch.device(\"cuda\" if torch.cuda.is_available() else \"cpu\")\n",
    "print(device)\n",
    "model.to(device)"
   ]
  },
  {
   "cell_type": "code",
   "execution_count": 73,
   "id": "7fe1901d-3b4c-45e8-8dd1-58cc35aef3da",
   "metadata": {},
   "outputs": [],
   "source": [
    "criterion = nn.BCELoss()\n",
    "optimizer = optim.Adam(model.parameters(), lr=0.001)"
   ]
  },
  {
   "cell_type": "code",
   "execution_count": 74,
   "id": "7a09dd0b-7e52-4934-8d91-0f47b8140e11",
   "metadata": {},
   "outputs": [],
   "source": [
    "def evaluate(model, dataloader, criterion):\n",
    "    model.eval()\n",
    "    total_loss = 0\n",
    "    all_preds = []\n",
    "    all_labels = []\n",
    "\n",
    "    with torch.no_grad():\n",
    "        for X_batch, y_batch in dataloader:\n",
    "            X_batch = X_batch.to(device)\n",
    "            y_batch = y_batch.to(device)\n",
    "            \n",
    "            output= model(X_batch).squeeze()\n",
    "            loss = criterion(output, y_batch)\n",
    "            total_loss += loss.item()\n",
    "\n",
    "            preds = output.squeeze().cpu().numpy()\n",
    "            labels = y_batch.cpu().numpy()\n",
    "\n",
    "            all_preds.extend(preds)\n",
    "            all_labels.extend(labels)\n",
    "\n",
    "    avg_loss = total_loss / len(dataloader)\n",
    "    roc_auc = roc_auc_score(all_labels, all_preds)\n",
    "    pr_auc = average_precision_score(all_labels, all_preds)\n",
    "\n",
    "    return avg_loss, roc_auc, pr_auc"
   ]
  },
  {
   "cell_type": "code",
   "execution_count": 75,
   "id": "16c95a03-b265-4684-bbf7-87d2a0d3ee1a",
   "metadata": {},
   "outputs": [
    {
     "name": "stdout",
     "output_type": "stream",
     "text": [
      "Epoch [1/10], Loss: 0.3762\n",
      "Epoch 1/10 - Validation Loss: 0.1996, ROC AUC: 0.9743, PR AUC: 0.9785\n",
      "\n",
      "Epoch [2/10], Loss: 0.1661\n",
      "Epoch 2/10 - Validation Loss: 0.1465, ROC AUC: 0.9883, PR AUC: 0.9888\n",
      "\n",
      "Epoch [3/10], Loss: 0.1310\n",
      "Epoch 3/10 - Validation Loss: 0.1461, ROC AUC: 0.9874, PR AUC: 0.9879\n",
      "\n",
      "Epoch [4/10], Loss: 0.1092\n",
      "Epoch 4/10 - Validation Loss: 0.1687, ROC AUC: 0.9875, PR AUC: 0.9880\n",
      "\n",
      "Epoch [5/10], Loss: 0.1002\n",
      "Epoch 5/10 - Validation Loss: 0.2126, ROC AUC: 0.9884, PR AUC: 0.9888\n",
      "\n",
      "Epoch [6/10], Loss: 0.0876\n",
      "Epoch 6/10 - Validation Loss: 0.1718, ROC AUC: 0.9879, PR AUC: 0.9881\n",
      "\n",
      "Epoch [7/10], Loss: 0.0794\n",
      "Epoch 7/10 - Validation Loss: 0.1477, ROC AUC: 0.9889, PR AUC: 0.9890\n",
      "\n",
      "Epoch [8/10], Loss: 0.0793\n",
      "Epoch 8/10 - Validation Loss: 0.1657, ROC AUC: 0.9864, PR AUC: 0.9869\n",
      "\n",
      "Epoch [9/10], Loss: 0.0814\n",
      "Epoch 9/10 - Validation Loss: 0.1470, ROC AUC: 0.9885, PR AUC: 0.9888\n",
      "\n",
      "Epoch [10/10], Loss: 0.0772\n",
      "Epoch 10/10 - Validation Loss: 0.1487, ROC AUC: 0.9899, PR AUC: 0.9903\n",
      "\n"
     ]
    }
   ],
   "source": [
    "num_epochs = 10\n",
    "for epoch in range(num_epochs):\n",
    "    model.train()\n",
    "    total_loss = 0\n",
    "    for X_batch, y_batch in train_loader:\n",
    "        X_batch, y_batch = X_batch.to(device), y_batch.to(device)\n",
    "        optimizer.zero_grad()\n",
    "        outputs = model(X_batch).squeeze()\n",
    "        loss = criterion(outputs, y_batch)\n",
    "        loss.backward()\n",
    "        optimizer.step()\n",
    "        total_loss += loss.item()\n",
    "    \n",
    "    print(f\"Epoch [{epoch+1}/{num_epochs}], Loss: {total_loss/len(train_loader):.4f}\")\n",
    "        \n",
    "    val_loss, val_roc_auc, val_pr_auc = evaluate(model, val_loader, criterion)\n",
    "\n",
    "    print(f\"Epoch {epoch+1}/{num_epochs} - Validation Loss: {val_loss:.4f}, ROC AUC: {val_roc_auc:.4f}, PR AUC: {val_pr_auc:.4f}\\n\")"
   ]
  },
  {
   "cell_type": "code",
   "execution_count": 62,
   "id": "d8a18ffd-dbc0-48ec-a86b-b648890063b4",
   "metadata": {},
   "outputs": [],
   "source": [
    "model.eval()\n",
    "correct = 0\n",
    "predicted_pairs = []\n",
    "with torch.no_grad():\n",
    "    for X_batch, y_batch in test_loader:\n",
    "        X_batch, y_batch = X_batch.to(device), y_batch.to(device)\n",
    "        outputs = model(X_batch).squeeze()\n",
    "        predictions = (outputs > 0.5).float()\n",
    "        correct += (predictions == y_batch).sum().item()"
   ]
  },
  {
   "cell_type": "code",
   "execution_count": 63,
   "id": "fa19f60d-cea7-4cb1-95b1-705a2d58014e",
   "metadata": {},
   "outputs": [
    {
     "name": "stdout",
     "output_type": "stream",
     "text": [
      "Test Accuracy: 94.15%\n"
     ]
    }
   ],
   "source": [
    "accuracy = correct / len(test_dataset)\n",
    "print(f\"Test Accuracy: {accuracy * 100:.2f}%\")"
   ]
  },
  {
   "cell_type": "code",
   "execution_count": 76,
   "id": "6efd7650-bea2-4f48-8fbb-3f4b54e2fde4",
   "metadata": {},
   "outputs": [
    {
     "name": "stdout",
     "output_type": "stream",
     "text": [
      "Test Loss: 0.15265478007495403\n",
      "Test ROC AUC: 0.990186578507372\n",
      "Test PR AUC: 0.9926108201099503\n"
     ]
    }
   ],
   "source": [
    "test_loss, test_roc_auc, test_pr_auc = evaluate(model, test_loader, criterion)\n",
    "print(f\"Test Loss: {test_loss}\\nTest ROC AUC: {test_roc_auc}\\nTest PR AUC: {test_pr_auc}\")"
   ]
  },
  {
   "cell_type": "code",
   "execution_count": 64,
   "id": "8d583bc1-bfa1-4f63-abe0-768c1c33193d",
   "metadata": {},
   "outputs": [],
   "source": [
    "torch.save(model.state_dict(), '../model/1000_pmid_model.pth')"
   ]
  },
  {
   "cell_type": "code",
   "execution_count": null,
   "id": "b11e20a2-22c5-4899-9f3a-6d7cb481b109",
   "metadata": {},
   "outputs": [],
   "source": []
  }
 ],
 "metadata": {
  "kernelspec": {
   "display_name": "Python 3 (ipykernel)",
   "language": "python",
   "name": "python3"
  },
  "language_info": {
   "codemirror_mode": {
    "name": "ipython",
    "version": 3
   },
   "file_extension": ".py",
   "mimetype": "text/x-python",
   "name": "python",
   "nbconvert_exporter": "python",
   "pygments_lexer": "ipython3",
   "version": "3.9.21"
  }
 },
 "nbformat": 4,
 "nbformat_minor": 5
}
